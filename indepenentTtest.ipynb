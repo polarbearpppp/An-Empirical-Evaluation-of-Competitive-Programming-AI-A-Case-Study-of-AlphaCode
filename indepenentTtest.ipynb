{
 "cells": [
  {
   "cell_type": "markdown",
   "metadata": {},
   "source": [
    "Library for Boxplot simility between Alphacode and Human code\n"
   ]
  },
  {
   "cell_type": "code",
   "execution_count": 1,
   "metadata": {},
   "outputs": [],
   "source": [
    "import numpy as np\n",
    "import os\n",
    "import researchpy\n",
    "import pandas as pd"
   ]
  },
  {
   "cell_type": "markdown",
   "metadata": {},
   "source": [
    "Defined list of problem and contest index of each problem"
   ]
  },
  {
   "cell_type": "code",
   "execution_count": 2,
   "metadata": {},
   "outputs": [],
   "source": [
    "listOfProblem= ['WebofLies','GregorandCryptography','PolycarpandCoins','WonderfulColoring','SubsequencePermutation','DigitsSum','RunningforGold',\n",
    "'XORandDistance','Cherry','Cobb','Mikasa','AVarietyofOperations','EzzatandTwoSubsequences','MochaandMath','DislikeofThrees',\n",
    "'SimplyStrangeSort','MedianMaximization','SeatingArrangementseasyversion','NonDecreasingDilemma','BalancedSubstring','Book',\n",
    "'RegularBracketSequences']\n",
    "\n",
    "nameMapProblem= {'WebofLies': '1549C','TheThreeLittlePigs': '1548C','GregorandtheTwoPainters': '1548E',\n",
    " 'GregorandCryptography': '1549A','PolycarpandCoins': '1551A','WonderfulColoring': '1551B1',\n",
    " 'SubsequencePermutation': '1552A','RunningforGold': '1552B','Backspace': '1553D','PermutationShift': '1553E',\n",
    " 'DigitsSum': '1553A','XORandDistance': '1553H','Cherry': '1554A','Cobb': '1554B',\n",
    " 'Mikasa': '1554C','SayNotoPalindromes': '1555D','AVarietyofOperations': '1556A','Moamenandksubarrays': '1557B',\n",
    " 'EzzatandTwoSubsequences': '1557A','MochaandMath': '1559A','MochaandRedandBlue': '1559B','MochaandDianaEasyVersion': '1559D1',\n",
    " 'DislikeofThrees': '1560A','InfinityTable': '1560C','NearestBeautifulNumbereasyversion': '1560F1','NearestBeautifulNumberhardversion': '1560F2',\n",
    " 'SimplyStrangeSort': '1561A','ScenesFromaMemory': '1562B','SeatingArrangementseasyversion': '1566D1',\n",
    " 'MINMEXCut': '1566B','MedianMaximization': '1566A','BudsRehanging': '1566E','NonDecreasingDilemma': '1567E',\n",
    " 'BalancedSubstring': '1569A','Book': '1573C','Countdown': '1573A','RegularBracketSequences': '1574A',\n",
    " 'CombinatoricsHomework': '1574B','MinimizeDistance': '1585C','MissingBigram': '1618B',\n",
    " \"Singers'Tour\": '1618E',\"NewYear'sProblem\": '1619D','GameonRanges': '1623B'}"
   ]
  },
  {
   "cell_type": "markdown",
   "metadata": {},
   "source": [
    "This function for read file and normalize result file from Mprof textfile to list."
   ]
  },
  {
   "cell_type": "code",
   "execution_count": 3,
   "metadata": {},
   "outputs": [],
   "source": [
    "def getData(Path):\n",
    "    mem,time = [],[]\n",
    "    try:\n",
    "        with open(f\"{Path}\") as f:\n",
    "            for j in f.readlines()[1:]:\n",
    "                tmp = j.split(' ')\n",
    "                mem.append(float(tmp[1]))\n",
    "                time.append(float(tmp[2][:-2]))\n",
    "        return max(mem),time[-1]-time[0]\n",
    "    except:\n",
    "        return 0,0\n"
   ]
  },
  {
   "cell_type": "markdown",
   "metadata": {},
   "source": [
    "This function for find Mem Mean,Median and SD peformance of Time and Mem usage between Alphacode and The most similar human code."
   ]
  },
  {
   "cell_type": "code",
   "execution_count": 4,
   "metadata": {},
   "outputs": [],
   "source": [
    "def getPerf(mainPath,lang,pl):\n",
    "    res,resList={},{}\n",
    "    for typ in ['alpha','sim']:\n",
    "        timePerf,memPerf = [],[]\n",
    "        dataPath = f\"{mainPath}{lang.upper()}/{pl}/{lang}Perf/1/{typ}/{typ}\"\n",
    "        print(dataPath)\n",
    "        for i in range(1,101):\n",
    "            maxMem,maxTime = getData(f\"{dataPath}{i}.txt\")\n",
    "            timePerf.append(maxTime)\n",
    "            memPerf.append(maxMem)\n",
    "        timepd = pd.Series(timePerf)\n",
    "        mempd = pd.Series(memPerf)\n",
    "        resList[typ] = {'time':timepd,'mem':mempd}\n",
    "        timearr = np.array(timePerf)\n",
    "        memarr = np.array(memPerf)\n",
    "        res[typ]={'time':{'sd':round(np.std(timearr),4),'median':round(np.median(timearr),4),'mean':round(np.mean(timearr),4)} \\\n",
    "                ,'mem':{'sd':round(np.std(memarr),4),'median':round(np.median(memarr),4),'mean':round(np.mean(memarr),4)}}\n",
    "    try:\n",
    "        tmp1 = researchpy.ttest(resList['alpha']['time'],resList['sim']['time'],group1_name='AlphaCode',group2_name='Sim')\n",
    "        tmp2 = researchpy.ttest(resList['alpha']['mem'],resList['sim']['mem'],group1_name='AlphaCode',group2_name='Sim')\n",
    "    except:\n",
    "        tmp1 = tmp2 = res = [0 for x in range(10)]\n",
    "    return tmp1[1],tmp2[1],res"
   ]
  },
  {
   "cell_type": "markdown",
   "metadata": {},
   "source": [
    "This function for interpret_cohen_d"
   ]
  },
  {
   "cell_type": "code",
   "execution_count": 5,
   "metadata": {},
   "outputs": [],
   "source": [
    "def interpret_cohen_d(d_value):\n",
    "    if 0 <= d_value < 0.1:\n",
    "        return 'Very Small'\n",
    "    elif 0.1 <= d_value < 0.35:\n",
    "        return 'Small'\n",
    "    elif 0.35 <= d_value < 0.65:\n",
    "        return 'Medium'\n",
    "    elif 0.65 <= d_value < 0.9:\n",
    "        return 'Large'\n",
    "    elif d_value >= 0.9:\n",
    "        return 'Very Large'\n",
    "    else:\n",
    "        return 'Unknown'"
   ]
  },
  {
   "cell_type": "markdown",
   "metadata": {},
   "source": [
    "This function to find stistical test and save table to csv."
   ]
  },
  {
   "cell_type": "code",
   "execution_count": 6,
   "metadata": {},
   "outputs": [],
   "source": [
    "def Write_All_Stistic_csv(listOfProblem,lang,res2lang,lperfmem,lperftime):\n",
    "    resTimeDF = pd.DataFrame()\n",
    "    resMemDF = pd.DataFrame()\n",
    "    for i in listOfProblem:\n",
    "        tmp = []\n",
    "        for j in ['alpha','sim']:\n",
    "            for k in ['time','mem']:\n",
    "                try:\n",
    "                    mean = res2lang[i][j][k]['mean']\n",
    "                    med = res2lang[i][j][k]['median']\n",
    "                    sd = res2lang[i][j][k]['sd']\n",
    "                except:\n",
    "                    mean =0\n",
    "                    med=0\n",
    "                    sd = 0\n",
    "                tmp.append((mean,med,sd))\n",
    "        check = lambda x : x < 0.0001\n",
    "        if(nameMapProblem[i] not in ['1553H','1554B','1567E']):\n",
    "            resTimeDF = resTimeDF.append({'name':nameMapProblem[i],'alTimeMean':tmp[0][0],'alTimeMed':tmp[0][1],'alTimeSD':tmp[0][2], \\\n",
    "                                        'simTimeMean':tmp[2][0],'simTimeMed':tmp[2][1],'simTimeSD':tmp[2][2], \\\n",
    "                                        'delta':abs(round(tmp[0][1]-tmp[2][1],4)), \\\n",
    "                                        't-test(p-value < 0.001)':f\"{lperftime[i]['results'][3]}, {check(lperftime[i]['results'][3])}\",\"Cohen's d\":f\"{abs(round(lperftime[i]['results'][6],2))} ({interpret_cohen_d(abs(lperftime[i]['results'][6]))})\"},\\\n",
    "                                        ignore_index=True)\n",
    "            resMemDF = resMemDF.append({'name':nameMapProblem[i],'alMemMean':tmp[1][0],'alMemMed':tmp[1][1],'alMemSD':tmp[1][2], \\\n",
    "                                        'simMemMean':tmp[3][0],'simMemMed':tmp[3][1],'simMemSD':tmp[3][2], \\\n",
    "                                        'delta':abs(round(tmp[1][1]-tmp[3][1],4)), \\\n",
    "                                    't-test(p-value < 0.001)':f\"{lperfmem[i]['results'][3]}, {check(lperfmem[i]['results'][3])}\",\"Cohen's d\":f\"{abs(round(lperfmem[i]['results'][6],2))} ({interpret_cohen_d(abs(lperfmem[i]['results'][6]))})\"},\\\n",
    "                                    ignore_index=True)\n",
    "        else:\n",
    "            resTimeDF = resTimeDF.append({'name':nameMapProblem[i],'alTimeMean':tmp[0][0],'alTimeMed':tmp[0][1],'alTimeSD':tmp[0][2], \\\n",
    "                                        'simTimeMean':'NA','simTimeMed':'NA','simTimeSD':'NA', \\\n",
    "                                        'delta':'NA', \\\n",
    "                                        't-test(p-value < 0.001)':'NA',\"Cohen's d\":\"NA\"},\\\n",
    "                                        ignore_index=True)\n",
    "            resMemDF = resMemDF.append({'name':nameMapProblem[i],'alMemMean':tmp[0][0],'alMemMed':tmp[0][1],'alMemSD':tmp[0][2], \\\n",
    "                                        'simMemMean':'NA','simMemMed':'NA','simMemSD':'NA', \\\n",
    "                                        'delta':'NA', \\\n",
    "                                        't-test(p-value < 0.001)':'NA',\"Cohen's d\":\"NA\"},\\\n",
    "                                        ignore_index=True)\n",
    "    print(resMemDF.sort_values(by='name'))\n",
    "    \n",
    "    resMemDF.sort_values(by='name').to_csv(f'{lang}Mem.csv',index=False)\n",
    "    print(resTimeDF.sort_values(by='name'))\n",
    "    resTimeDF.sort_values(by='name').to_csv(f'{lang}time.csv',index=False)\n",
    "\n",
    "\n",
    "\n"
   ]
  },
  {
   "cell_type": "markdown",
   "metadata": {},
   "source": [
    "Function call for all problem in both 2 languages."
   ]
  },
  {
   "cell_type": "code",
   "execution_count": 7,
   "metadata": {},
   "outputs": [
    {
     "name": "stdout",
     "output_type": "stream",
     "text": [
      "Language:  Cpp\n",
      "name:  WebofLies\n",
      "/Users/silalertbanjongngam/Desktop/CodeInTheResearch/RawData/CPP/WebofLies/CppPerf/1/alpha/alpha\n",
      "/Users/silalertbanjongngam/Desktop/CodeInTheResearch/RawData/CPP/WebofLies/CppPerf/1/sim/sim\n",
      "name:  GregorandCryptography\n",
      "/Users/silalertbanjongngam/Desktop/CodeInTheResearch/RawData/CPP/GregorandCryptography/CppPerf/1/alpha/alpha\n",
      "/Users/silalertbanjongngam/Desktop/CodeInTheResearch/RawData/CPP/GregorandCryptography/CppPerf/1/sim/sim\n",
      "name:  PolycarpandCoins\n",
      "/Users/silalertbanjongngam/Desktop/CodeInTheResearch/RawData/CPP/PolycarpandCoins/CppPerf/1/alpha/alpha\n"
     ]
    },
    {
     "name": "stderr",
     "output_type": "stream",
     "text": [
      "/Users/silalertbanjongngam/anaconda3/lib/python3.9/site-packages/researchpy/ttest.py:18: FutureWarning: The series.append method is deprecated and will be removed from pandas in a future version. Use pandas.concat instead.\n",
      "  groups = group1.append(group2, ignore_index= True)\n",
      "/Users/silalertbanjongngam/anaconda3/lib/python3.9/site-packages/researchpy/ttest.py:18: FutureWarning: The series.append method is deprecated and will be removed from pandas in a future version. Use pandas.concat instead.\n",
      "  groups = group1.append(group2, ignore_index= True)\n",
      "/Users/silalertbanjongngam/anaconda3/lib/python3.9/site-packages/researchpy/ttest.py:18: FutureWarning: The series.append method is deprecated and will be removed from pandas in a future version. Use pandas.concat instead.\n",
      "  groups = group1.append(group2, ignore_index= True)\n",
      "/Users/silalertbanjongngam/anaconda3/lib/python3.9/site-packages/researchpy/ttest.py:18: FutureWarning: The series.append method is deprecated and will be removed from pandas in a future version. Use pandas.concat instead.\n",
      "  groups = group1.append(group2, ignore_index= True)\n"
     ]
    },
    {
     "name": "stdout",
     "output_type": "stream",
     "text": [
      "/Users/silalertbanjongngam/Desktop/CodeInTheResearch/RawData/CPP/PolycarpandCoins/CppPerf/1/sim/sim\n",
      "name:  WonderfulColoring\n",
      "/Users/silalertbanjongngam/Desktop/CodeInTheResearch/RawData/CPP/WonderfulColoring/CppPerf/1/alpha/alpha\n",
      "/Users/silalertbanjongngam/Desktop/CodeInTheResearch/RawData/CPP/WonderfulColoring/CppPerf/1/sim/sim\n",
      "name:  SubsequencePermutation\n",
      "/Users/silalertbanjongngam/Desktop/CodeInTheResearch/RawData/CPP/SubsequencePermutation/CppPerf/1/alpha/alpha\n",
      "/Users/silalertbanjongngam/Desktop/CodeInTheResearch/RawData/CPP/SubsequencePermutation/CppPerf/1/sim/sim\n",
      "name:  DigitsSum\n",
      "/Users/silalertbanjongngam/Desktop/CodeInTheResearch/RawData/CPP/DigitsSum/CppPerf/1/alpha/alpha\n",
      "/Users/silalertbanjongngam/Desktop/CodeInTheResearch/RawData/CPP/DigitsSum/CppPerf/1/sim/sim\n",
      "name:  RunningforGold\n",
      "/Users/silalertbanjongngam/Desktop/CodeInTheResearch/RawData/CPP/RunningforGold/CppPerf/1/alpha/alpha\n"
     ]
    },
    {
     "name": "stderr",
     "output_type": "stream",
     "text": [
      "/Users/silalertbanjongngam/anaconda3/lib/python3.9/site-packages/researchpy/ttest.py:18: FutureWarning: The series.append method is deprecated and will be removed from pandas in a future version. Use pandas.concat instead.\n",
      "  groups = group1.append(group2, ignore_index= True)\n",
      "/Users/silalertbanjongngam/anaconda3/lib/python3.9/site-packages/researchpy/ttest.py:18: FutureWarning: The series.append method is deprecated and will be removed from pandas in a future version. Use pandas.concat instead.\n",
      "  groups = group1.append(group2, ignore_index= True)\n",
      "/Users/silalertbanjongngam/anaconda3/lib/python3.9/site-packages/researchpy/ttest.py:18: FutureWarning: The series.append method is deprecated and will be removed from pandas in a future version. Use pandas.concat instead.\n",
      "  groups = group1.append(group2, ignore_index= True)\n",
      "/Users/silalertbanjongngam/anaconda3/lib/python3.9/site-packages/researchpy/ttest.py:18: FutureWarning: The series.append method is deprecated and will be removed from pandas in a future version. Use pandas.concat instead.\n",
      "  groups = group1.append(group2, ignore_index= True)\n",
      "/Users/silalertbanjongngam/anaconda3/lib/python3.9/site-packages/researchpy/ttest.py:18: FutureWarning: The series.append method is deprecated and will be removed from pandas in a future version. Use pandas.concat instead.\n",
      "  groups = group1.append(group2, ignore_index= True)\n",
      "/Users/silalertbanjongngam/anaconda3/lib/python3.9/site-packages/researchpy/ttest.py:18: FutureWarning: The series.append method is deprecated and will be removed from pandas in a future version. Use pandas.concat instead.\n",
      "  groups = group1.append(group2, ignore_index= True)\n",
      "/Users/silalertbanjongngam/anaconda3/lib/python3.9/site-packages/researchpy/ttest.py:18: FutureWarning: The series.append method is deprecated and will be removed from pandas in a future version. Use pandas.concat instead.\n",
      "  groups = group1.append(group2, ignore_index= True)\n",
      "/Users/silalertbanjongngam/anaconda3/lib/python3.9/site-packages/researchpy/ttest.py:18: FutureWarning: The series.append method is deprecated and will be removed from pandas in a future version. Use pandas.concat instead.\n",
      "  groups = group1.append(group2, ignore_index= True)\n"
     ]
    },
    {
     "name": "stdout",
     "output_type": "stream",
     "text": [
      "/Users/silalertbanjongngam/Desktop/CodeInTheResearch/RawData/CPP/RunningforGold/CppPerf/1/sim/sim\n",
      "name:  XORandDistance\n",
      "/Users/silalertbanjongngam/Desktop/CodeInTheResearch/RawData/CPP/XORandDistance/CppPerf/1/alpha/alpha\n"
     ]
    },
    {
     "name": "stderr",
     "output_type": "stream",
     "text": [
      "/Users/silalertbanjongngam/anaconda3/lib/python3.9/site-packages/researchpy/ttest.py:18: FutureWarning: The series.append method is deprecated and will be removed from pandas in a future version. Use pandas.concat instead.\n",
      "  groups = group1.append(group2, ignore_index= True)\n",
      "/Users/silalertbanjongngam/anaconda3/lib/python3.9/site-packages/researchpy/ttest.py:18: FutureWarning: The series.append method is deprecated and will be removed from pandas in a future version. Use pandas.concat instead.\n",
      "  groups = group1.append(group2, ignore_index= True)\n"
     ]
    },
    {
     "name": "stdout",
     "output_type": "stream",
     "text": [
      "/Users/silalertbanjongngam/Desktop/CodeInTheResearch/RawData/CPP/XORandDistance/CppPerf/1/sim/sim\n",
      "name:  Cherry\n",
      "/Users/silalertbanjongngam/Desktop/CodeInTheResearch/RawData/CPP/Cherry/CppPerf/1/alpha/alpha\n"
     ]
    },
    {
     "name": "stderr",
     "output_type": "stream",
     "text": [
      "/Users/silalertbanjongngam/anaconda3/lib/python3.9/site-packages/researchpy/ttest.py:18: FutureWarning: The series.append method is deprecated and will be removed from pandas in a future version. Use pandas.concat instead.\n",
      "  groups = group1.append(group2, ignore_index= True)\n",
      "/Users/silalertbanjongngam/anaconda3/lib/python3.9/site-packages/researchpy/ttest.py:18: FutureWarning: The series.append method is deprecated and will be removed from pandas in a future version. Use pandas.concat instead.\n",
      "  groups = group1.append(group2, ignore_index= True)\n"
     ]
    },
    {
     "name": "stdout",
     "output_type": "stream",
     "text": [
      "/Users/silalertbanjongngam/Desktop/CodeInTheResearch/RawData/CPP/Cherry/CppPerf/1/sim/sim\n",
      "name:  Cobb\n",
      "/Users/silalertbanjongngam/Desktop/CodeInTheResearch/RawData/CPP/Cobb/CppPerf/1/alpha/alpha\n"
     ]
    },
    {
     "name": "stderr",
     "output_type": "stream",
     "text": [
      "/Users/silalertbanjongngam/anaconda3/lib/python3.9/site-packages/researchpy/ttest.py:18: FutureWarning: The series.append method is deprecated and will be removed from pandas in a future version. Use pandas.concat instead.\n",
      "  groups = group1.append(group2, ignore_index= True)\n",
      "/Users/silalertbanjongngam/anaconda3/lib/python3.9/site-packages/researchpy/ttest.py:18: FutureWarning: The series.append method is deprecated and will be removed from pandas in a future version. Use pandas.concat instead.\n",
      "  groups = group1.append(group2, ignore_index= True)\n"
     ]
    },
    {
     "name": "stdout",
     "output_type": "stream",
     "text": [
      "/Users/silalertbanjongngam/Desktop/CodeInTheResearch/RawData/CPP/Cobb/CppPerf/1/sim/sim\n",
      "name:  Mikasa\n",
      "/Users/silalertbanjongngam/Desktop/CodeInTheResearch/RawData/CPP/Mikasa/CppPerf/1/alpha/alpha\n"
     ]
    },
    {
     "name": "stderr",
     "output_type": "stream",
     "text": [
      "/Users/silalertbanjongngam/anaconda3/lib/python3.9/site-packages/researchpy/ttest.py:18: FutureWarning: The series.append method is deprecated and will be removed from pandas in a future version. Use pandas.concat instead.\n",
      "  groups = group1.append(group2, ignore_index= True)\n",
      "/Users/silalertbanjongngam/anaconda3/lib/python3.9/site-packages/researchpy/ttest.py:18: FutureWarning: The series.append method is deprecated and will be removed from pandas in a future version. Use pandas.concat instead.\n",
      "  groups = group1.append(group2, ignore_index= True)\n"
     ]
    },
    {
     "name": "stdout",
     "output_type": "stream",
     "text": [
      "/Users/silalertbanjongngam/Desktop/CodeInTheResearch/RawData/CPP/Mikasa/CppPerf/1/sim/sim\n",
      "name:  AVarietyofOperations\n",
      "/Users/silalertbanjongngam/Desktop/CodeInTheResearch/RawData/CPP/AVarietyofOperations/CppPerf/1/alpha/alpha\n",
      "/Users/silalertbanjongngam/Desktop/CodeInTheResearch/RawData/CPP/AVarietyofOperations/CppPerf/1/sim/sim\n",
      "name:  EzzatandTwoSubsequences\n",
      "/Users/silalertbanjongngam/Desktop/CodeInTheResearch/RawData/CPP/EzzatandTwoSubsequences/CppPerf/1/alpha/alpha\n",
      "/Users/silalertbanjongngam/Desktop/CodeInTheResearch/RawData/CPP/EzzatandTwoSubsequences/CppPerf/1/sim/sim\n",
      "name:  MochaandMath\n",
      "/Users/silalertbanjongngam/Desktop/CodeInTheResearch/RawData/CPP/MochaandMath/CppPerf/1/alpha/alpha\n",
      "/Users/silalertbanjongngam/Desktop/CodeInTheResearch/RawData/CPP/MochaandMath/CppPerf/1/sim/sim\n",
      "name:  DislikeofThrees\n",
      "/Users/silalertbanjongngam/Desktop/CodeInTheResearch/RawData/CPP/DislikeofThrees/CppPerf/1/alpha/alpha\n",
      "/Users/silalertbanjongngam/Desktop/CodeInTheResearch/RawData/CPP/DislikeofThrees/CppPerf/1/sim/sim\n",
      "name:  SimplyStrangeSort\n",
      "/Users/silalertbanjongngam/Desktop/CodeInTheResearch/RawData/CPP/SimplyStrangeSort/CppPerf/1/alpha/alpha\n",
      "/Users/silalertbanjongngam/Desktop/CodeInTheResearch/RawData/CPP/SimplyStrangeSort/CppPerf/1/sim/sim\n",
      "name:  MedianMaximization\n",
      "/Users/silalertbanjongngam/Desktop/CodeInTheResearch/RawData/CPP/MedianMaximization/CppPerf/1/alpha/alpha\n"
     ]
    },
    {
     "name": "stderr",
     "output_type": "stream",
     "text": [
      "/Users/silalertbanjongngam/anaconda3/lib/python3.9/site-packages/researchpy/ttest.py:18: FutureWarning: The series.append method is deprecated and will be removed from pandas in a future version. Use pandas.concat instead.\n",
      "  groups = group1.append(group2, ignore_index= True)\n",
      "/Users/silalertbanjongngam/anaconda3/lib/python3.9/site-packages/researchpy/ttest.py:18: FutureWarning: The series.append method is deprecated and will be removed from pandas in a future version. Use pandas.concat instead.\n",
      "  groups = group1.append(group2, ignore_index= True)\n",
      "/Users/silalertbanjongngam/anaconda3/lib/python3.9/site-packages/researchpy/ttest.py:18: FutureWarning: The series.append method is deprecated and will be removed from pandas in a future version. Use pandas.concat instead.\n",
      "  groups = group1.append(group2, ignore_index= True)\n",
      "/Users/silalertbanjongngam/anaconda3/lib/python3.9/site-packages/researchpy/ttest.py:18: FutureWarning: The series.append method is deprecated and will be removed from pandas in a future version. Use pandas.concat instead.\n",
      "  groups = group1.append(group2, ignore_index= True)\n",
      "/Users/silalertbanjongngam/anaconda3/lib/python3.9/site-packages/researchpy/ttest.py:18: FutureWarning: The series.append method is deprecated and will be removed from pandas in a future version. Use pandas.concat instead.\n",
      "  groups = group1.append(group2, ignore_index= True)\n",
      "/Users/silalertbanjongngam/anaconda3/lib/python3.9/site-packages/researchpy/ttest.py:18: FutureWarning: The series.append method is deprecated and will be removed from pandas in a future version. Use pandas.concat instead.\n",
      "  groups = group1.append(group2, ignore_index= True)\n",
      "/Users/silalertbanjongngam/anaconda3/lib/python3.9/site-packages/researchpy/ttest.py:18: FutureWarning: The series.append method is deprecated and will be removed from pandas in a future version. Use pandas.concat instead.\n",
      "  groups = group1.append(group2, ignore_index= True)\n",
      "/Users/silalertbanjongngam/anaconda3/lib/python3.9/site-packages/researchpy/ttest.py:18: FutureWarning: The series.append method is deprecated and will be removed from pandas in a future version. Use pandas.concat instead.\n",
      "  groups = group1.append(group2, ignore_index= True)\n",
      "/Users/silalertbanjongngam/anaconda3/lib/python3.9/site-packages/researchpy/ttest.py:18: FutureWarning: The series.append method is deprecated and will be removed from pandas in a future version. Use pandas.concat instead.\n",
      "  groups = group1.append(group2, ignore_index= True)\n",
      "/Users/silalertbanjongngam/anaconda3/lib/python3.9/site-packages/researchpy/ttest.py:18: FutureWarning: The series.append method is deprecated and will be removed from pandas in a future version. Use pandas.concat instead.\n",
      "  groups = group1.append(group2, ignore_index= True)\n",
      "/Users/silalertbanjongngam/anaconda3/lib/python3.9/site-packages/researchpy/ttest.py:18: FutureWarning: The series.append method is deprecated and will be removed from pandas in a future version. Use pandas.concat instead.\n",
      "  groups = group1.append(group2, ignore_index= True)\n",
      "/Users/silalertbanjongngam/anaconda3/lib/python3.9/site-packages/researchpy/ttest.py:18: FutureWarning: The series.append method is deprecated and will be removed from pandas in a future version. Use pandas.concat instead.\n",
      "  groups = group1.append(group2, ignore_index= True)\n"
     ]
    },
    {
     "name": "stdout",
     "output_type": "stream",
     "text": [
      "/Users/silalertbanjongngam/Desktop/CodeInTheResearch/RawData/CPP/MedianMaximization/CppPerf/1/sim/sim\n",
      "name:  SeatingArrangementseasyversion\n",
      "/Users/silalertbanjongngam/Desktop/CodeInTheResearch/RawData/CPP/SeatingArrangementseasyversion/CppPerf/1/alpha/alpha\n",
      "/Users/silalertbanjongngam/Desktop/CodeInTheResearch/RawData/CPP/SeatingArrangementseasyversion/CppPerf/1/sim/sim\n",
      "name:  NonDecreasingDilemma\n",
      "/Users/silalertbanjongngam/Desktop/CodeInTheResearch/RawData/CPP/NonDecreasingDilemma/CppPerf/1/alpha/alpha\n"
     ]
    },
    {
     "name": "stderr",
     "output_type": "stream",
     "text": [
      "/Users/silalertbanjongngam/anaconda3/lib/python3.9/site-packages/researchpy/ttest.py:18: FutureWarning: The series.append method is deprecated and will be removed from pandas in a future version. Use pandas.concat instead.\n",
      "  groups = group1.append(group2, ignore_index= True)\n",
      "/Users/silalertbanjongngam/anaconda3/lib/python3.9/site-packages/researchpy/ttest.py:18: FutureWarning: The series.append method is deprecated and will be removed from pandas in a future version. Use pandas.concat instead.\n",
      "  groups = group1.append(group2, ignore_index= True)\n",
      "/Users/silalertbanjongngam/anaconda3/lib/python3.9/site-packages/researchpy/ttest.py:18: FutureWarning: The series.append method is deprecated and will be removed from pandas in a future version. Use pandas.concat instead.\n",
      "  groups = group1.append(group2, ignore_index= True)\n",
      "/Users/silalertbanjongngam/anaconda3/lib/python3.9/site-packages/researchpy/ttest.py:18: FutureWarning: The series.append method is deprecated and will be removed from pandas in a future version. Use pandas.concat instead.\n",
      "  groups = group1.append(group2, ignore_index= True)\n"
     ]
    },
    {
     "name": "stdout",
     "output_type": "stream",
     "text": [
      "/Users/silalertbanjongngam/Desktop/CodeInTheResearch/RawData/CPP/NonDecreasingDilemma/CppPerf/1/sim/sim\n"
     ]
    },
    {
     "name": "stderr",
     "output_type": "stream",
     "text": [
      "/Users/silalertbanjongngam/anaconda3/lib/python3.9/site-packages/researchpy/ttest.py:18: FutureWarning: The series.append method is deprecated and will be removed from pandas in a future version. Use pandas.concat instead.\n",
      "  groups = group1.append(group2, ignore_index= True)\n",
      "/Users/silalertbanjongngam/anaconda3/lib/python3.9/site-packages/researchpy/ttest.py:18: FutureWarning: The series.append method is deprecated and will be removed from pandas in a future version. Use pandas.concat instead.\n",
      "  groups = group1.append(group2, ignore_index= True)\n",
      "/Users/silalertbanjongngam/anaconda3/lib/python3.9/site-packages/researchpy/ttest.py:18: FutureWarning: The series.append method is deprecated and will be removed from pandas in a future version. Use pandas.concat instead.\n",
      "  groups = group1.append(group2, ignore_index= True)\n",
      "/Users/silalertbanjongngam/anaconda3/lib/python3.9/site-packages/researchpy/ttest.py:18: FutureWarning: The series.append method is deprecated and will be removed from pandas in a future version. Use pandas.concat instead.\n",
      "  groups = group1.append(group2, ignore_index= True)\n",
      "/Users/silalertbanjongngam/anaconda3/lib/python3.9/site-packages/researchpy/ttest.py:18: FutureWarning: The series.append method is deprecated and will be removed from pandas in a future version. Use pandas.concat instead.\n",
      "  groups = group1.append(group2, ignore_index= True)\n",
      "/Users/silalertbanjongngam/anaconda3/lib/python3.9/site-packages/researchpy/ttest.py:18: FutureWarning: The series.append method is deprecated and will be removed from pandas in a future version. Use pandas.concat instead.\n",
      "  groups = group1.append(group2, ignore_index= True)\n",
      "/Users/silalertbanjongngam/anaconda3/lib/python3.9/site-packages/researchpy/ttest.py:18: FutureWarning: The series.append method is deprecated and will be removed from pandas in a future version. Use pandas.concat instead.\n",
      "  groups = group1.append(group2, ignore_index= True)\n",
      "/Users/silalertbanjongngam/anaconda3/lib/python3.9/site-packages/researchpy/ttest.py:18: FutureWarning: The series.append method is deprecated and will be removed from pandas in a future version. Use pandas.concat instead.\n",
      "  groups = group1.append(group2, ignore_index= True)\n",
      "/var/folders/l1/dlc_jzs90vj3g01l0jr_866w0000gn/T/ipykernel_51506/409377616.py:19: FutureWarning: The frame.append method is deprecated and will be removed from pandas in a future version. Use pandas.concat instead.\n",
      "  resTimeDF = resTimeDF.append({'name':nameMapProblem[i],'alTimeMean':tmp[0][0],'alTimeMed':tmp[0][1],'alTimeSD':tmp[0][2], \\\n",
      "/var/folders/l1/dlc_jzs90vj3g01l0jr_866w0000gn/T/ipykernel_51506/409377616.py:24: FutureWarning: The frame.append method is deprecated and will be removed from pandas in a future version. Use pandas.concat instead.\n",
      "  resMemDF = resMemDF.append({'name':nameMapProblem[i],'alMemMean':tmp[1][0],'alMemMed':tmp[1][1],'alMemSD':tmp[1][2], \\\n",
      "/var/folders/l1/dlc_jzs90vj3g01l0jr_866w0000gn/T/ipykernel_51506/409377616.py:19: FutureWarning: The frame.append method is deprecated and will be removed from pandas in a future version. Use pandas.concat instead.\n",
      "  resTimeDF = resTimeDF.append({'name':nameMapProblem[i],'alTimeMean':tmp[0][0],'alTimeMed':tmp[0][1],'alTimeSD':tmp[0][2], \\\n",
      "/var/folders/l1/dlc_jzs90vj3g01l0jr_866w0000gn/T/ipykernel_51506/409377616.py:24: FutureWarning: The frame.append method is deprecated and will be removed from pandas in a future version. Use pandas.concat instead.\n",
      "  resMemDF = resMemDF.append({'name':nameMapProblem[i],'alMemMean':tmp[1][0],'alMemMed':tmp[1][1],'alMemSD':tmp[1][2], \\\n",
      "/var/folders/l1/dlc_jzs90vj3g01l0jr_866w0000gn/T/ipykernel_51506/409377616.py:19: FutureWarning: The frame.append method is deprecated and will be removed from pandas in a future version. Use pandas.concat instead.\n",
      "  resTimeDF = resTimeDF.append({'name':nameMapProblem[i],'alTimeMean':tmp[0][0],'alTimeMed':tmp[0][1],'alTimeSD':tmp[0][2], \\\n",
      "/var/folders/l1/dlc_jzs90vj3g01l0jr_866w0000gn/T/ipykernel_51506/409377616.py:24: FutureWarning: The frame.append method is deprecated and will be removed from pandas in a future version. Use pandas.concat instead.\n",
      "  resMemDF = resMemDF.append({'name':nameMapProblem[i],'alMemMean':tmp[1][0],'alMemMed':tmp[1][1],'alMemSD':tmp[1][2], \\\n",
      "/var/folders/l1/dlc_jzs90vj3g01l0jr_866w0000gn/T/ipykernel_51506/409377616.py:19: FutureWarning: The frame.append method is deprecated and will be removed from pandas in a future version. Use pandas.concat instead.\n",
      "  resTimeDF = resTimeDF.append({'name':nameMapProblem[i],'alTimeMean':tmp[0][0],'alTimeMed':tmp[0][1],'alTimeSD':tmp[0][2], \\\n",
      "/var/folders/l1/dlc_jzs90vj3g01l0jr_866w0000gn/T/ipykernel_51506/409377616.py:24: FutureWarning: The frame.append method is deprecated and will be removed from pandas in a future version. Use pandas.concat instead.\n",
      "  resMemDF = resMemDF.append({'name':nameMapProblem[i],'alMemMean':tmp[1][0],'alMemMed':tmp[1][1],'alMemSD':tmp[1][2], \\\n",
      "/var/folders/l1/dlc_jzs90vj3g01l0jr_866w0000gn/T/ipykernel_51506/409377616.py:19: FutureWarning: The frame.append method is deprecated and will be removed from pandas in a future version. Use pandas.concat instead.\n",
      "  resTimeDF = resTimeDF.append({'name':nameMapProblem[i],'alTimeMean':tmp[0][0],'alTimeMed':tmp[0][1],'alTimeSD':tmp[0][2], \\\n",
      "/var/folders/l1/dlc_jzs90vj3g01l0jr_866w0000gn/T/ipykernel_51506/409377616.py:24: FutureWarning: The frame.append method is deprecated and will be removed from pandas in a future version. Use pandas.concat instead.\n",
      "  resMemDF = resMemDF.append({'name':nameMapProblem[i],'alMemMean':tmp[1][0],'alMemMed':tmp[1][1],'alMemSD':tmp[1][2], \\\n",
      "/var/folders/l1/dlc_jzs90vj3g01l0jr_866w0000gn/T/ipykernel_51506/409377616.py:19: FutureWarning: The frame.append method is deprecated and will be removed from pandas in a future version. Use pandas.concat instead.\n",
      "  resTimeDF = resTimeDF.append({'name':nameMapProblem[i],'alTimeMean':tmp[0][0],'alTimeMed':tmp[0][1],'alTimeSD':tmp[0][2], \\\n",
      "/var/folders/l1/dlc_jzs90vj3g01l0jr_866w0000gn/T/ipykernel_51506/409377616.py:24: FutureWarning: The frame.append method is deprecated and will be removed from pandas in a future version. Use pandas.concat instead.\n",
      "  resMemDF = resMemDF.append({'name':nameMapProblem[i],'alMemMean':tmp[1][0],'alMemMed':tmp[1][1],'alMemSD':tmp[1][2], \\\n",
      "/var/folders/l1/dlc_jzs90vj3g01l0jr_866w0000gn/T/ipykernel_51506/409377616.py:19: FutureWarning: The frame.append method is deprecated and will be removed from pandas in a future version. Use pandas.concat instead.\n",
      "  resTimeDF = resTimeDF.append({'name':nameMapProblem[i],'alTimeMean':tmp[0][0],'alTimeMed':tmp[0][1],'alTimeSD':tmp[0][2], \\\n",
      "/var/folders/l1/dlc_jzs90vj3g01l0jr_866w0000gn/T/ipykernel_51506/409377616.py:24: FutureWarning: The frame.append method is deprecated and will be removed from pandas in a future version. Use pandas.concat instead.\n",
      "  resMemDF = resMemDF.append({'name':nameMapProblem[i],'alMemMean':tmp[1][0],'alMemMed':tmp[1][1],'alMemSD':tmp[1][2], \\\n",
      "/var/folders/l1/dlc_jzs90vj3g01l0jr_866w0000gn/T/ipykernel_51506/409377616.py:30: FutureWarning: The frame.append method is deprecated and will be removed from pandas in a future version. Use pandas.concat instead.\n",
      "  resTimeDF = resTimeDF.append({'name':nameMapProblem[i],'alTimeMean':tmp[0][0],'alTimeMed':tmp[0][1],'alTimeSD':tmp[0][2], \\\n",
      "/var/folders/l1/dlc_jzs90vj3g01l0jr_866w0000gn/T/ipykernel_51506/409377616.py:35: FutureWarning: The frame.append method is deprecated and will be removed from pandas in a future version. Use pandas.concat instead.\n",
      "  resMemDF = resMemDF.append({'name':nameMapProblem[i],'alMemMean':tmp[0][0],'alMemMed':tmp[0][1],'alMemSD':tmp[0][2], \\\n",
      "/var/folders/l1/dlc_jzs90vj3g01l0jr_866w0000gn/T/ipykernel_51506/409377616.py:19: FutureWarning: The frame.append method is deprecated and will be removed from pandas in a future version. Use pandas.concat instead.\n",
      "  resTimeDF = resTimeDF.append({'name':nameMapProblem[i],'alTimeMean':tmp[0][0],'alTimeMed':tmp[0][1],'alTimeSD':tmp[0][2], \\\n",
      "/var/folders/l1/dlc_jzs90vj3g01l0jr_866w0000gn/T/ipykernel_51506/409377616.py:24: FutureWarning: The frame.append method is deprecated and will be removed from pandas in a future version. Use pandas.concat instead.\n",
      "  resMemDF = resMemDF.append({'name':nameMapProblem[i],'alMemMean':tmp[1][0],'alMemMed':tmp[1][1],'alMemSD':tmp[1][2], \\\n",
      "/var/folders/l1/dlc_jzs90vj3g01l0jr_866w0000gn/T/ipykernel_51506/409377616.py:30: FutureWarning: The frame.append method is deprecated and will be removed from pandas in a future version. Use pandas.concat instead.\n",
      "  resTimeDF = resTimeDF.append({'name':nameMapProblem[i],'alTimeMean':tmp[0][0],'alTimeMed':tmp[0][1],'alTimeSD':tmp[0][2], \\\n",
      "/var/folders/l1/dlc_jzs90vj3g01l0jr_866w0000gn/T/ipykernel_51506/409377616.py:35: FutureWarning: The frame.append method is deprecated and will be removed from pandas in a future version. Use pandas.concat instead.\n",
      "  resMemDF = resMemDF.append({'name':nameMapProblem[i],'alMemMean':tmp[0][0],'alMemMed':tmp[0][1],'alMemSD':tmp[0][2], \\\n",
      "/var/folders/l1/dlc_jzs90vj3g01l0jr_866w0000gn/T/ipykernel_51506/409377616.py:19: FutureWarning: The frame.append method is deprecated and will be removed from pandas in a future version. Use pandas.concat instead.\n",
      "  resTimeDF = resTimeDF.append({'name':nameMapProblem[i],'alTimeMean':tmp[0][0],'alTimeMed':tmp[0][1],'alTimeSD':tmp[0][2], \\\n",
      "/var/folders/l1/dlc_jzs90vj3g01l0jr_866w0000gn/T/ipykernel_51506/409377616.py:24: FutureWarning: The frame.append method is deprecated and will be removed from pandas in a future version. Use pandas.concat instead.\n",
      "  resMemDF = resMemDF.append({'name':nameMapProblem[i],'alMemMean':tmp[1][0],'alMemMed':tmp[1][1],'alMemSD':tmp[1][2], \\\n",
      "/var/folders/l1/dlc_jzs90vj3g01l0jr_866w0000gn/T/ipykernel_51506/409377616.py:19: FutureWarning: The frame.append method is deprecated and will be removed from pandas in a future version. Use pandas.concat instead.\n",
      "  resTimeDF = resTimeDF.append({'name':nameMapProblem[i],'alTimeMean':tmp[0][0],'alTimeMed':tmp[0][1],'alTimeSD':tmp[0][2], \\\n",
      "/var/folders/l1/dlc_jzs90vj3g01l0jr_866w0000gn/T/ipykernel_51506/409377616.py:24: FutureWarning: The frame.append method is deprecated and will be removed from pandas in a future version. Use pandas.concat instead.\n",
      "  resMemDF = resMemDF.append({'name':nameMapProblem[i],'alMemMean':tmp[1][0],'alMemMed':tmp[1][1],'alMemSD':tmp[1][2], \\\n",
      "/var/folders/l1/dlc_jzs90vj3g01l0jr_866w0000gn/T/ipykernel_51506/409377616.py:19: FutureWarning: The frame.append method is deprecated and will be removed from pandas in a future version. Use pandas.concat instead.\n",
      "  resTimeDF = resTimeDF.append({'name':nameMapProblem[i],'alTimeMean':tmp[0][0],'alTimeMed':tmp[0][1],'alTimeSD':tmp[0][2], \\\n"
     ]
    },
    {
     "name": "stdout",
     "output_type": "stream",
     "text": [
      "name:  BalancedSubstring\n",
      "/Users/silalertbanjongngam/Desktop/CodeInTheResearch/RawData/CPP/BalancedSubstring/CppPerf/1/alpha/alpha\n",
      "/Users/silalertbanjongngam/Desktop/CodeInTheResearch/RawData/CPP/BalancedSubstring/CppPerf/1/sim/sim\n",
      "name:  Book\n",
      "/Users/silalertbanjongngam/Desktop/CodeInTheResearch/RawData/CPP/Book/CppPerf/1/alpha/alpha\n",
      "/Users/silalertbanjongngam/Desktop/CodeInTheResearch/RawData/CPP/Book/CppPerf/1/sim/sim\n",
      "name:  RegularBracketSequences\n",
      "/Users/silalertbanjongngam/Desktop/CodeInTheResearch/RawData/CPP/RegularBracketSequences/CppPerf/1/alpha/alpha\n",
      "/Users/silalertbanjongngam/Desktop/CodeInTheResearch/RawData/CPP/RegularBracketSequences/CppPerf/1/sim/sim\n"
     ]
    },
    {
     "name": "stderr",
     "output_type": "stream",
     "text": [
      "/var/folders/l1/dlc_jzs90vj3g01l0jr_866w0000gn/T/ipykernel_51506/409377616.py:24: FutureWarning: The frame.append method is deprecated and will be removed from pandas in a future version. Use pandas.concat instead.\n",
      "  resMemDF = resMemDF.append({'name':nameMapProblem[i],'alMemMean':tmp[1][0],'alMemMed':tmp[1][1],'alMemSD':tmp[1][2], \\\n",
      "/var/folders/l1/dlc_jzs90vj3g01l0jr_866w0000gn/T/ipykernel_51506/409377616.py:19: FutureWarning: The frame.append method is deprecated and will be removed from pandas in a future version. Use pandas.concat instead.\n",
      "  resTimeDF = resTimeDF.append({'name':nameMapProblem[i],'alTimeMean':tmp[0][0],'alTimeMed':tmp[0][1],'alTimeSD':tmp[0][2], \\\n",
      "/var/folders/l1/dlc_jzs90vj3g01l0jr_866w0000gn/T/ipykernel_51506/409377616.py:24: FutureWarning: The frame.append method is deprecated and will be removed from pandas in a future version. Use pandas.concat instead.\n",
      "  resMemDF = resMemDF.append({'name':nameMapProblem[i],'alMemMean':tmp[1][0],'alMemMed':tmp[1][1],'alMemSD':tmp[1][2], \\\n",
      "/var/folders/l1/dlc_jzs90vj3g01l0jr_866w0000gn/T/ipykernel_51506/409377616.py:19: FutureWarning: The frame.append method is deprecated and will be removed from pandas in a future version. Use pandas.concat instead.\n",
      "  resTimeDF = resTimeDF.append({'name':nameMapProblem[i],'alTimeMean':tmp[0][0],'alTimeMed':tmp[0][1],'alTimeSD':tmp[0][2], \\\n",
      "/var/folders/l1/dlc_jzs90vj3g01l0jr_866w0000gn/T/ipykernel_51506/409377616.py:24: FutureWarning: The frame.append method is deprecated and will be removed from pandas in a future version. Use pandas.concat instead.\n",
      "  resMemDF = resMemDF.append({'name':nameMapProblem[i],'alMemMean':tmp[1][0],'alMemMed':tmp[1][1],'alMemSD':tmp[1][2], \\\n",
      "/var/folders/l1/dlc_jzs90vj3g01l0jr_866w0000gn/T/ipykernel_51506/409377616.py:19: FutureWarning: The frame.append method is deprecated and will be removed from pandas in a future version. Use pandas.concat instead.\n",
      "  resTimeDF = resTimeDF.append({'name':nameMapProblem[i],'alTimeMean':tmp[0][0],'alTimeMed':tmp[0][1],'alTimeSD':tmp[0][2], \\\n",
      "/var/folders/l1/dlc_jzs90vj3g01l0jr_866w0000gn/T/ipykernel_51506/409377616.py:24: FutureWarning: The frame.append method is deprecated and will be removed from pandas in a future version. Use pandas.concat instead.\n",
      "  resMemDF = resMemDF.append({'name':nameMapProblem[i],'alMemMean':tmp[1][0],'alMemMed':tmp[1][1],'alMemSD':tmp[1][2], \\\n",
      "/var/folders/l1/dlc_jzs90vj3g01l0jr_866w0000gn/T/ipykernel_51506/409377616.py:19: FutureWarning: The frame.append method is deprecated and will be removed from pandas in a future version. Use pandas.concat instead.\n",
      "  resTimeDF = resTimeDF.append({'name':nameMapProblem[i],'alTimeMean':tmp[0][0],'alTimeMed':tmp[0][1],'alTimeSD':tmp[0][2], \\\n",
      "/var/folders/l1/dlc_jzs90vj3g01l0jr_866w0000gn/T/ipykernel_51506/409377616.py:24: FutureWarning: The frame.append method is deprecated and will be removed from pandas in a future version. Use pandas.concat instead.\n",
      "  resMemDF = resMemDF.append({'name':nameMapProblem[i],'alMemMean':tmp[1][0],'alMemMed':tmp[1][1],'alMemSD':tmp[1][2], \\\n",
      "/var/folders/l1/dlc_jzs90vj3g01l0jr_866w0000gn/T/ipykernel_51506/409377616.py:19: FutureWarning: The frame.append method is deprecated and will be removed from pandas in a future version. Use pandas.concat instead.\n",
      "  resTimeDF = resTimeDF.append({'name':nameMapProblem[i],'alTimeMean':tmp[0][0],'alTimeMed':tmp[0][1],'alTimeSD':tmp[0][2], \\\n",
      "/var/folders/l1/dlc_jzs90vj3g01l0jr_866w0000gn/T/ipykernel_51506/409377616.py:24: FutureWarning: The frame.append method is deprecated and will be removed from pandas in a future version. Use pandas.concat instead.\n",
      "  resMemDF = resMemDF.append({'name':nameMapProblem[i],'alMemMean':tmp[1][0],'alMemMed':tmp[1][1],'alMemSD':tmp[1][2], \\\n",
      "/var/folders/l1/dlc_jzs90vj3g01l0jr_866w0000gn/T/ipykernel_51506/409377616.py:30: FutureWarning: The frame.append method is deprecated and will be removed from pandas in a future version. Use pandas.concat instead.\n",
      "  resTimeDF = resTimeDF.append({'name':nameMapProblem[i],'alTimeMean':tmp[0][0],'alTimeMed':tmp[0][1],'alTimeSD':tmp[0][2], \\\n",
      "/var/folders/l1/dlc_jzs90vj3g01l0jr_866w0000gn/T/ipykernel_51506/409377616.py:35: FutureWarning: The frame.append method is deprecated and will be removed from pandas in a future version. Use pandas.concat instead.\n",
      "  resMemDF = resMemDF.append({'name':nameMapProblem[i],'alMemMean':tmp[0][0],'alMemMed':tmp[0][1],'alMemSD':tmp[0][2], \\\n",
      "/var/folders/l1/dlc_jzs90vj3g01l0jr_866w0000gn/T/ipykernel_51506/409377616.py:19: FutureWarning: The frame.append method is deprecated and will be removed from pandas in a future version. Use pandas.concat instead.\n",
      "  resTimeDF = resTimeDF.append({'name':nameMapProblem[i],'alTimeMean':tmp[0][0],'alTimeMed':tmp[0][1],'alTimeSD':tmp[0][2], \\\n",
      "/var/folders/l1/dlc_jzs90vj3g01l0jr_866w0000gn/T/ipykernel_51506/409377616.py:24: FutureWarning: The frame.append method is deprecated and will be removed from pandas in a future version. Use pandas.concat instead.\n",
      "  resMemDF = resMemDF.append({'name':nameMapProblem[i],'alMemMean':tmp[1][0],'alMemMed':tmp[1][1],'alMemSD':tmp[1][2], \\\n",
      "/var/folders/l1/dlc_jzs90vj3g01l0jr_866w0000gn/T/ipykernel_51506/409377616.py:19: FutureWarning: The frame.append method is deprecated and will be removed from pandas in a future version. Use pandas.concat instead.\n",
      "  resTimeDF = resTimeDF.append({'name':nameMapProblem[i],'alTimeMean':tmp[0][0],'alTimeMed':tmp[0][1],'alTimeSD':tmp[0][2], \\\n",
      "/var/folders/l1/dlc_jzs90vj3g01l0jr_866w0000gn/T/ipykernel_51506/409377616.py:24: FutureWarning: The frame.append method is deprecated and will be removed from pandas in a future version. Use pandas.concat instead.\n",
      "  resMemDF = resMemDF.append({'name':nameMapProblem[i],'alMemMean':tmp[1][0],'alMemMed':tmp[1][1],'alMemSD':tmp[1][2], \\\n",
      "/var/folders/l1/dlc_jzs90vj3g01l0jr_866w0000gn/T/ipykernel_51506/409377616.py:19: FutureWarning: The frame.append method is deprecated and will be removed from pandas in a future version. Use pandas.concat instead.\n",
      "  resTimeDF = resTimeDF.append({'name':nameMapProblem[i],'alTimeMean':tmp[0][0],'alTimeMed':tmp[0][1],'alTimeSD':tmp[0][2], \\\n",
      "/var/folders/l1/dlc_jzs90vj3g01l0jr_866w0000gn/T/ipykernel_51506/409377616.py:24: FutureWarning: The frame.append method is deprecated and will be removed from pandas in a future version. Use pandas.concat instead.\n",
      "  resMemDF = resMemDF.append({'name':nameMapProblem[i],'alMemMean':tmp[1][0],'alMemMed':tmp[1][1],'alMemSD':tmp[1][2], \\\n"
     ]
    },
    {
     "name": "stdout",
     "output_type": "stream",
     "text": [
      "      name  alMemMean   alMemMed  alMemSD simMemMean simMemMed simMemSD  \\\n",
      "1    1549A     1.5249     1.5078   0.2347     1.5765    1.5078    0.397   \n",
      "0    1549C    14.0974    14.1035   0.0650    14.1612   14.1445   0.0914   \n",
      "2    1551A     1.5235     1.5078   0.0386     1.5093    1.5078   0.1562   \n",
      "3   1551B1     1.5273     1.5078   0.2525     1.5041    1.5078   0.1566   \n",
      "4    1552A     1.5762     1.5078   0.3989     1.5416    1.5039   0.3124   \n",
      "6    1552B     4.9586     5.0078   0.1488     4.2563     4.248   0.0446   \n",
      "5    1553A     1.5039     1.5078   0.1555     1.5303    1.5078   0.2427   \n",
      "7    1553H     5.8210     5.8210   0.0038         NA        NA       NA   \n",
      "8    1554A     3.4807     3.4727   0.0491     3.7433    3.7461   0.0508   \n",
      "9    1554B     5.8200     5.8200   0.0045         NA        NA       NA   \n",
      "10   1554C  8194.9658  8194.9805   0.1861     1.5427    1.5078   0.1841   \n",
      "11   1556A     1.5289     1.5078   0.2410     1.5258    1.5078   0.2391   \n",
      "12   1557A     3.5021     3.4961   0.0568     3.4982       3.5   0.0478   \n",
      "13   1559A     1.5283     1.5078   0.2570      1.538    1.5078   0.2529   \n",
      "14   1560A     1.5284     1.5078   0.2379     1.5052    1.5078   0.1563   \n",
      "15   1561A     1.5012     1.5078   0.1567     1.5014    1.5078   0.1568   \n",
      "16   1566A     1.5178     1.5078   0.0381     1.5242    1.5078   0.2357   \n",
      "17  1566D1     1.5177     1.5039   0.2495     1.5085    1.5078   0.1564   \n",
      "18   1567E     5.8213     5.8220   0.0103         NA        NA       NA   \n",
      "19   1569A     1.5225     1.5078   0.2495      1.507    1.5078   0.1554   \n",
      "20   1573C    13.6350    13.7559   1.3726    12.1131   12.2266   1.2187   \n",
      "21   1574A     1.5523     1.5078   0.3235     0.5532    0.5742    0.062   \n",
      "\n",
      "        delta t-test(p-value < 0.001)             Cohen's d  \n",
      "1         0.0           0.2673, False          0.16 (Small)  \n",
      "0       0.041               0.0, True           0.8 (Large)  \n",
      "2         0.0           0.3803, False          0.12 (Small)  \n",
      "3         0.0            0.438, False          0.11 (Small)  \n",
      "4      0.0039           0.4965, False      0.1 (Very Small)  \n",
      "6      0.7598               0.0, True     6.36 (Very Large)  \n",
      "5         0.0           0.3638, False          0.13 (Small)  \n",
      "7          NA                      NA                    NA  \n",
      "8      0.2734               0.0, True     5.23 (Very Large)  \n",
      "9          NA                      NA                    NA  \n",
      "10  8193.4727               0.0, True  44044.6 (Very Large)  \n",
      "11        0.0            0.928, False     0.01 (Very Small)  \n",
      "12     0.0039           0.6051, False     0.07 (Very Small)  \n",
      "13        0.0           0.7878, False     0.04 (Very Small)  \n",
      "14        0.0           0.4183, False          0.11 (Small)  \n",
      "15        0.0           0.9944, False      0.0 (Very Small)  \n",
      "16        0.0           0.7898, False     0.04 (Very Small)  \n",
      "17     0.0039           0.7548, False     0.04 (Very Small)  \n",
      "18         NA                      NA                    NA  \n",
      "19        0.0           0.6002, False     0.07 (Very Small)  \n",
      "20     1.5293               0.0, True     1.17 (Very Large)  \n",
      "21     0.9336               0.0, True     4.27 (Very Large)  \n",
      "      name  alTimeMean  alTimeMed  alTimeSD simTimeMean simTimeMed simTimeSD  \\\n",
      "1    1549A      0.0009     0.0010    0.0022      0.0017      0.002    0.0005   \n",
      "0    1549C      5.8210     5.8210    0.0069      0.0591      0.058    0.0191   \n",
      "2    1551A      5.8216     5.8220    0.0047      0.0133      0.013    0.0027   \n",
      "3   1551B1      0.0067     0.0070    0.0018      0.0065      0.007    0.0011   \n",
      "4    1552A      0.0040     0.0040    0.0006      0.0041      0.004    0.0008   \n",
      "6    1552B      5.8219     5.8220    0.0057      0.0463      0.047    0.0017   \n",
      "5    1553A      0.0019     0.0020    0.0004      0.0019      0.002    0.0005   \n",
      "7    1553H      5.8210     5.8210    0.0038          NA         NA        NA   \n",
      "8    1554A      5.8199     5.8210    0.0048      0.0589      0.059    0.0025   \n",
      "9    1554B      5.8200     5.8200    0.0045          NA         NA        NA   \n",
      "10   1554C      5.8200     5.8200    0.0052       0.009      0.009    0.0017   \n",
      "11   1556A      0.0032     0.0030    0.0006      0.0104      0.011    0.0016   \n",
      "12   1557A      0.0914     0.0920    0.0047      0.0911      0.092    0.0031   \n",
      "13   1559A      0.0024     0.0020    0.0027       0.002      0.002    0.0005   \n",
      "14   1560A      0.0010     0.0010    0.0026      0.0007      0.001    0.0005   \n",
      "15   1561A      0.0038     0.0030    0.0066      0.0034      0.003    0.0006   \n",
      "16   1566A      5.8194     5.8195    0.0041      0.0146      0.015    0.0024   \n",
      "17  1566D1      0.0271     0.0270    0.0038      0.0121     0.0125    0.0018   \n",
      "18   1567E      5.8213     5.8220    0.0103          NA         NA        NA   \n",
      "19   1569A      0.0024     0.0020    0.0020      0.0049      0.005    0.0008   \n",
      "20   1573C      0.0291     0.0290    0.0033      0.0327      0.033    0.0036   \n",
      "21   1574A      0.0038     0.0040    0.0017      0.0021      0.002    0.0004   \n",
      "\n",
      "     delta t-test(p-value < 0.001)             Cohen's d  \n",
      "1    0.001           0.0003, False         0.52 (Medium)  \n",
      "0    5.763               0.0, True   399.22 (Very Large)  \n",
      "2    5.809               0.0, True  1501.59 (Very Large)  \n",
      "3      0.0           0.3721, False          0.13 (Small)  \n",
      "4      0.0           0.5489, False     0.08 (Very Small)  \n",
      "6    5.775               0.0, True   1377.4 (Very Large)  \n",
      "5      0.0           0.5446, False     0.09 (Very Small)  \n",
      "7       NA                      NA                    NA  \n",
      "8    5.762               0.0, True  1487.15 (Very Large)  \n",
      "9       NA                      NA                    NA  \n",
      "10   5.811               0.0, True  1488.17 (Very Large)  \n",
      "11   0.008               0.0, True     5.74 (Very Large)  \n",
      "12     0.0           0.6349, False     0.07 (Very Small)  \n",
      "13     0.0           0.1716, False          0.19 (Small)  \n",
      "14     0.0           0.1712, False          0.19 (Small)  \n",
      "15     0.0           0.4895, False      0.1 (Very Small)  \n",
      "16  5.8045               0.0, True  1722.22 (Very Large)  \n",
      "17  0.0145               0.0, True      5.0 (Very Large)  \n",
      "18      NA                      NA                    NA  \n",
      "19   0.003               0.0, True      1.7 (Very Large)  \n",
      "20   0.004               0.0, True     1.05 (Very Large)  \n",
      "21   0.002               0.0, True     1.33 (Very Large)  \n",
      "Language:  Python\n",
      "name:  WebofLies\n",
      "/Users/silalertbanjongngam/Desktop/CodeInTheResearch/RawData/PYTHON/WebofLies/PythonPerf/1/alpha/alpha\n",
      "/Users/silalertbanjongngam/Desktop/CodeInTheResearch/RawData/PYTHON/WebofLies/PythonPerf/1/sim/sim\n",
      "name:  GregorandCryptography\n",
      "/Users/silalertbanjongngam/Desktop/CodeInTheResearch/RawData/PYTHON/GregorandCryptography/PythonPerf/1/alpha/alpha\n"
     ]
    },
    {
     "name": "stderr",
     "output_type": "stream",
     "text": [
      "/Users/silalertbanjongngam/anaconda3/lib/python3.9/site-packages/researchpy/ttest.py:18: FutureWarning: The series.append method is deprecated and will be removed from pandas in a future version. Use pandas.concat instead.\n",
      "  groups = group1.append(group2, ignore_index= True)\n",
      "/Users/silalertbanjongngam/anaconda3/lib/python3.9/site-packages/researchpy/ttest.py:18: FutureWarning: The series.append method is deprecated and will be removed from pandas in a future version. Use pandas.concat instead.\n",
      "  groups = group1.append(group2, ignore_index= True)\n",
      "/Users/silalertbanjongngam/anaconda3/lib/python3.9/site-packages/researchpy/ttest.py:18: FutureWarning: The series.append method is deprecated and will be removed from pandas in a future version. Use pandas.concat instead.\n",
      "  groups = group1.append(group2, ignore_index= True)\n",
      "/Users/silalertbanjongngam/anaconda3/lib/python3.9/site-packages/researchpy/ttest.py:18: FutureWarning: The series.append method is deprecated and will be removed from pandas in a future version. Use pandas.concat instead.\n",
      "  groups = group1.append(group2, ignore_index= True)\n"
     ]
    },
    {
     "name": "stdout",
     "output_type": "stream",
     "text": [
      "/Users/silalertbanjongngam/Desktop/CodeInTheResearch/RawData/PYTHON/GregorandCryptography/PythonPerf/1/sim/sim\n",
      "name:  PolycarpandCoins\n",
      "/Users/silalertbanjongngam/Desktop/CodeInTheResearch/RawData/PYTHON/PolycarpandCoins/PythonPerf/1/alpha/alpha\n",
      "/Users/silalertbanjongngam/Desktop/CodeInTheResearch/RawData/PYTHON/PolycarpandCoins/PythonPerf/1/sim/sim\n"
     ]
    },
    {
     "name": "stderr",
     "output_type": "stream",
     "text": [
      "/Users/silalertbanjongngam/anaconda3/lib/python3.9/site-packages/researchpy/ttest.py:18: FutureWarning: The series.append method is deprecated and will be removed from pandas in a future version. Use pandas.concat instead.\n",
      "  groups = group1.append(group2, ignore_index= True)\n",
      "/Users/silalertbanjongngam/anaconda3/lib/python3.9/site-packages/researchpy/ttest.py:18: FutureWarning: The series.append method is deprecated and will be removed from pandas in a future version. Use pandas.concat instead.\n",
      "  groups = group1.append(group2, ignore_index= True)\n",
      "/Users/silalertbanjongngam/anaconda3/lib/python3.9/site-packages/researchpy/ttest.py:18: FutureWarning: The series.append method is deprecated and will be removed from pandas in a future version. Use pandas.concat instead.\n",
      "  groups = group1.append(group2, ignore_index= True)\n",
      "/Users/silalertbanjongngam/anaconda3/lib/python3.9/site-packages/researchpy/ttest.py:18: FutureWarning: The series.append method is deprecated and will be removed from pandas in a future version. Use pandas.concat instead.\n",
      "  groups = group1.append(group2, ignore_index= True)\n"
     ]
    },
    {
     "name": "stdout",
     "output_type": "stream",
     "text": [
      "name:  WonderfulColoring\n",
      "/Users/silalertbanjongngam/Desktop/CodeInTheResearch/RawData/PYTHON/WonderfulColoring/PythonPerf/1/alpha/alpha\n",
      "/Users/silalertbanjongngam/Desktop/CodeInTheResearch/RawData/PYTHON/WonderfulColoring/PythonPerf/1/sim/sim\n",
      "name:  SubsequencePermutation\n",
      "/Users/silalertbanjongngam/Desktop/CodeInTheResearch/RawData/PYTHON/SubsequencePermutation/PythonPerf/1/alpha/alpha\n",
      "/Users/silalertbanjongngam/Desktop/CodeInTheResearch/RawData/PYTHON/SubsequencePermutation/PythonPerf/1/sim/sim\n"
     ]
    },
    {
     "name": "stderr",
     "output_type": "stream",
     "text": [
      "/Users/silalertbanjongngam/anaconda3/lib/python3.9/site-packages/researchpy/ttest.py:18: FutureWarning: The series.append method is deprecated and will be removed from pandas in a future version. Use pandas.concat instead.\n",
      "  groups = group1.append(group2, ignore_index= True)\n",
      "/Users/silalertbanjongngam/anaconda3/lib/python3.9/site-packages/researchpy/ttest.py:18: FutureWarning: The series.append method is deprecated and will be removed from pandas in a future version. Use pandas.concat instead.\n",
      "  groups = group1.append(group2, ignore_index= True)\n",
      "/Users/silalertbanjongngam/anaconda3/lib/python3.9/site-packages/researchpy/ttest.py:18: FutureWarning: The series.append method is deprecated and will be removed from pandas in a future version. Use pandas.concat instead.\n",
      "  groups = group1.append(group2, ignore_index= True)\n",
      "/Users/silalertbanjongngam/anaconda3/lib/python3.9/site-packages/researchpy/ttest.py:18: FutureWarning: The series.append method is deprecated and will be removed from pandas in a future version. Use pandas.concat instead.\n",
      "  groups = group1.append(group2, ignore_index= True)\n"
     ]
    },
    {
     "name": "stdout",
     "output_type": "stream",
     "text": [
      "name:  DigitsSum\n",
      "/Users/silalertbanjongngam/Desktop/CodeInTheResearch/RawData/PYTHON/DigitsSum/PythonPerf/1/alpha/alpha\n",
      "/Users/silalertbanjongngam/Desktop/CodeInTheResearch/RawData/PYTHON/DigitsSum/PythonPerf/1/sim/sim\n",
      "name:  RunningforGold\n",
      "/Users/silalertbanjongngam/Desktop/CodeInTheResearch/RawData/PYTHON/RunningforGold/PythonPerf/1/alpha/alpha\n",
      "/Users/silalertbanjongngam/Desktop/CodeInTheResearch/RawData/PYTHON/RunningforGold/PythonPerf/1/sim/sim\n",
      "name:  XORandDistance\n",
      "/Users/silalertbanjongngam/Desktop/CodeInTheResearch/RawData/PYTHON/XORandDistance/PythonPerf/1/alpha/alpha\n"
     ]
    },
    {
     "name": "stderr",
     "output_type": "stream",
     "text": [
      "/Users/silalertbanjongngam/anaconda3/lib/python3.9/site-packages/researchpy/ttest.py:18: FutureWarning: The series.append method is deprecated and will be removed from pandas in a future version. Use pandas.concat instead.\n",
      "  groups = group1.append(group2, ignore_index= True)\n",
      "/Users/silalertbanjongngam/anaconda3/lib/python3.9/site-packages/researchpy/ttest.py:18: FutureWarning: The series.append method is deprecated and will be removed from pandas in a future version. Use pandas.concat instead.\n",
      "  groups = group1.append(group2, ignore_index= True)\n"
     ]
    },
    {
     "name": "stdout",
     "output_type": "stream",
     "text": [
      "/Users/silalertbanjongngam/Desktop/CodeInTheResearch/RawData/PYTHON/XORandDistance/PythonPerf/1/sim/sim\n",
      "name:  Cherry\n",
      "/Users/silalertbanjongngam/Desktop/CodeInTheResearch/RawData/PYTHON/Cherry/PythonPerf/1/alpha/alpha\n",
      "/Users/silalertbanjongngam/Desktop/CodeInTheResearch/RawData/PYTHON/Cherry/PythonPerf/1/sim/sim\n"
     ]
    },
    {
     "name": "stderr",
     "output_type": "stream",
     "text": [
      "/Users/silalertbanjongngam/anaconda3/lib/python3.9/site-packages/researchpy/ttest.py:18: FutureWarning: The series.append method is deprecated and will be removed from pandas in a future version. Use pandas.concat instead.\n",
      "  groups = group1.append(group2, ignore_index= True)\n",
      "/Users/silalertbanjongngam/anaconda3/lib/python3.9/site-packages/researchpy/ttest.py:18: FutureWarning: The series.append method is deprecated and will be removed from pandas in a future version. Use pandas.concat instead.\n",
      "  groups = group1.append(group2, ignore_index= True)\n",
      "/Users/silalertbanjongngam/anaconda3/lib/python3.9/site-packages/researchpy/ttest.py:18: FutureWarning: The series.append method is deprecated and will be removed from pandas in a future version. Use pandas.concat instead.\n",
      "  groups = group1.append(group2, ignore_index= True)\n",
      "/Users/silalertbanjongngam/anaconda3/lib/python3.9/site-packages/researchpy/ttest.py:18: FutureWarning: The series.append method is deprecated and will be removed from pandas in a future version. Use pandas.concat instead.\n",
      "  groups = group1.append(group2, ignore_index= True)\n",
      "/Users/silalertbanjongngam/anaconda3/lib/python3.9/site-packages/researchpy/ttest.py:18: FutureWarning: The series.append method is deprecated and will be removed from pandas in a future version. Use pandas.concat instead.\n",
      "  groups = group1.append(group2, ignore_index= True)\n",
      "/Users/silalertbanjongngam/anaconda3/lib/python3.9/site-packages/researchpy/ttest.py:18: FutureWarning: The series.append method is deprecated and will be removed from pandas in a future version. Use pandas.concat instead.\n",
      "  groups = group1.append(group2, ignore_index= True)\n"
     ]
    },
    {
     "name": "stdout",
     "output_type": "stream",
     "text": [
      "name:  Cobb\n",
      "/Users/silalertbanjongngam/Desktop/CodeInTheResearch/RawData/PYTHON/Cobb/PythonPerf/1/alpha/alpha\n",
      "/Users/silalertbanjongngam/Desktop/CodeInTheResearch/RawData/PYTHON/Cobb/PythonPerf/1/sim/sim\n",
      "name:  Mikasa\n",
      "/Users/silalertbanjongngam/Desktop/CodeInTheResearch/RawData/PYTHON/Mikasa/PythonPerf/1/alpha/alpha\n",
      "/Users/silalertbanjongngam/Desktop/CodeInTheResearch/RawData/PYTHON/Mikasa/PythonPerf/1/sim/sim\n",
      "name:  AVarietyofOperations\n",
      "/Users/silalertbanjongngam/Desktop/CodeInTheResearch/RawData/PYTHON/AVarietyofOperations/PythonPerf/1/alpha/alpha\n",
      "/Users/silalertbanjongngam/Desktop/CodeInTheResearch/RawData/PYTHON/AVarietyofOperations/PythonPerf/1/sim/sim\n"
     ]
    },
    {
     "name": "stderr",
     "output_type": "stream",
     "text": [
      "/Users/silalertbanjongngam/anaconda3/lib/python3.9/site-packages/researchpy/ttest.py:18: FutureWarning: The series.append method is deprecated and will be removed from pandas in a future version. Use pandas.concat instead.\n",
      "  groups = group1.append(group2, ignore_index= True)\n",
      "/Users/silalertbanjongngam/anaconda3/lib/python3.9/site-packages/researchpy/ttest.py:18: FutureWarning: The series.append method is deprecated and will be removed from pandas in a future version. Use pandas.concat instead.\n",
      "  groups = group1.append(group2, ignore_index= True)\n",
      "/Users/silalertbanjongngam/anaconda3/lib/python3.9/site-packages/researchpy/ttest.py:18: FutureWarning: The series.append method is deprecated and will be removed from pandas in a future version. Use pandas.concat instead.\n",
      "  groups = group1.append(group2, ignore_index= True)\n",
      "/Users/silalertbanjongngam/anaconda3/lib/python3.9/site-packages/researchpy/ttest.py:18: FutureWarning: The series.append method is deprecated and will be removed from pandas in a future version. Use pandas.concat instead.\n",
      "  groups = group1.append(group2, ignore_index= True)\n"
     ]
    },
    {
     "name": "stdout",
     "output_type": "stream",
     "text": [
      "name:  EzzatandTwoSubsequences\n",
      "/Users/silalertbanjongngam/Desktop/CodeInTheResearch/RawData/PYTHON/EzzatandTwoSubsequences/PythonPerf/1/alpha/alpha\n",
      "/Users/silalertbanjongngam/Desktop/CodeInTheResearch/RawData/PYTHON/EzzatandTwoSubsequences/PythonPerf/1/sim/sim\n",
      "name:  MochaandMath\n",
      "/Users/silalertbanjongngam/Desktop/CodeInTheResearch/RawData/PYTHON/MochaandMath/PythonPerf/1/alpha/alpha\n",
      "/Users/silalertbanjongngam/Desktop/CodeInTheResearch/RawData/PYTHON/MochaandMath/PythonPerf/1/sim/sim\n"
     ]
    },
    {
     "name": "stderr",
     "output_type": "stream",
     "text": [
      "/Users/silalertbanjongngam/anaconda3/lib/python3.9/site-packages/researchpy/ttest.py:18: FutureWarning: The series.append method is deprecated and will be removed from pandas in a future version. Use pandas.concat instead.\n",
      "  groups = group1.append(group2, ignore_index= True)\n",
      "/Users/silalertbanjongngam/anaconda3/lib/python3.9/site-packages/researchpy/ttest.py:18: FutureWarning: The series.append method is deprecated and will be removed from pandas in a future version. Use pandas.concat instead.\n",
      "  groups = group1.append(group2, ignore_index= True)\n",
      "/Users/silalertbanjongngam/anaconda3/lib/python3.9/site-packages/researchpy/ttest.py:18: FutureWarning: The series.append method is deprecated and will be removed from pandas in a future version. Use pandas.concat instead.\n",
      "  groups = group1.append(group2, ignore_index= True)\n",
      "/Users/silalertbanjongngam/anaconda3/lib/python3.9/site-packages/researchpy/ttest.py:18: FutureWarning: The series.append method is deprecated and will be removed from pandas in a future version. Use pandas.concat instead.\n",
      "  groups = group1.append(group2, ignore_index= True)\n"
     ]
    },
    {
     "name": "stdout",
     "output_type": "stream",
     "text": [
      "name:  DislikeofThrees\n",
      "/Users/silalertbanjongngam/Desktop/CodeInTheResearch/RawData/PYTHON/DislikeofThrees/PythonPerf/1/alpha/alpha\n",
      "/Users/silalertbanjongngam/Desktop/CodeInTheResearch/RawData/PYTHON/DislikeofThrees/PythonPerf/1/sim/sim\n",
      "name:  SimplyStrangeSort\n",
      "/Users/silalertbanjongngam/Desktop/CodeInTheResearch/RawData/PYTHON/SimplyStrangeSort/PythonPerf/1/alpha/alpha\n"
     ]
    },
    {
     "name": "stderr",
     "output_type": "stream",
     "text": [
      "/Users/silalertbanjongngam/anaconda3/lib/python3.9/site-packages/researchpy/ttest.py:18: FutureWarning: The series.append method is deprecated and will be removed from pandas in a future version. Use pandas.concat instead.\n",
      "  groups = group1.append(group2, ignore_index= True)\n",
      "/Users/silalertbanjongngam/anaconda3/lib/python3.9/site-packages/researchpy/ttest.py:18: FutureWarning: The series.append method is deprecated and will be removed from pandas in a future version. Use pandas.concat instead.\n",
      "  groups = group1.append(group2, ignore_index= True)\n",
      "/Users/silalertbanjongngam/anaconda3/lib/python3.9/site-packages/researchpy/ttest.py:18: FutureWarning: The series.append method is deprecated and will be removed from pandas in a future version. Use pandas.concat instead.\n",
      "  groups = group1.append(group2, ignore_index= True)\n",
      "/Users/silalertbanjongngam/anaconda3/lib/python3.9/site-packages/researchpy/ttest.py:18: FutureWarning: The series.append method is deprecated and will be removed from pandas in a future version. Use pandas.concat instead.\n",
      "  groups = group1.append(group2, ignore_index= True)\n"
     ]
    },
    {
     "name": "stdout",
     "output_type": "stream",
     "text": [
      "/Users/silalertbanjongngam/Desktop/CodeInTheResearch/RawData/PYTHON/SimplyStrangeSort/PythonPerf/1/sim/sim\n",
      "name:  MedianMaximization\n",
      "/Users/silalertbanjongngam/Desktop/CodeInTheResearch/RawData/PYTHON/MedianMaximization/PythonPerf/1/alpha/alpha\n",
      "/Users/silalertbanjongngam/Desktop/CodeInTheResearch/RawData/PYTHON/MedianMaximization/PythonPerf/1/sim/sim\n"
     ]
    },
    {
     "name": "stderr",
     "output_type": "stream",
     "text": [
      "/Users/silalertbanjongngam/anaconda3/lib/python3.9/site-packages/researchpy/ttest.py:18: FutureWarning: The series.append method is deprecated and will be removed from pandas in a future version. Use pandas.concat instead.\n",
      "  groups = group1.append(group2, ignore_index= True)\n",
      "/Users/silalertbanjongngam/anaconda3/lib/python3.9/site-packages/researchpy/ttest.py:18: FutureWarning: The series.append method is deprecated and will be removed from pandas in a future version. Use pandas.concat instead.\n",
      "  groups = group1.append(group2, ignore_index= True)\n"
     ]
    },
    {
     "name": "stdout",
     "output_type": "stream",
     "text": [
      "name:  SeatingArrangementseasyversion\n",
      "/Users/silalertbanjongngam/Desktop/CodeInTheResearch/RawData/PYTHON/SeatingArrangementseasyversion/PythonPerf/1/alpha/alpha\n",
      "/Users/silalertbanjongngam/Desktop/CodeInTheResearch/RawData/PYTHON/SeatingArrangementseasyversion/PythonPerf/1/sim/sim\n"
     ]
    },
    {
     "name": "stderr",
     "output_type": "stream",
     "text": [
      "/Users/silalertbanjongngam/anaconda3/lib/python3.9/site-packages/researchpy/ttest.py:18: FutureWarning: The series.append method is deprecated and will be removed from pandas in a future version. Use pandas.concat instead.\n",
      "  groups = group1.append(group2, ignore_index= True)\n",
      "/Users/silalertbanjongngam/anaconda3/lib/python3.9/site-packages/researchpy/ttest.py:18: FutureWarning: The series.append method is deprecated and will be removed from pandas in a future version. Use pandas.concat instead.\n",
      "  groups = group1.append(group2, ignore_index= True)\n"
     ]
    },
    {
     "name": "stdout",
     "output_type": "stream",
     "text": [
      "name:  NonDecreasingDilemma\n",
      "/Users/silalertbanjongngam/Desktop/CodeInTheResearch/RawData/PYTHON/NonDecreasingDilemma/PythonPerf/1/alpha/alpha\n",
      "/Users/silalertbanjongngam/Desktop/CodeInTheResearch/RawData/PYTHON/NonDecreasingDilemma/PythonPerf/1/sim/sim\n",
      "name:  BalancedSubstring\n",
      "/Users/silalertbanjongngam/Desktop/CodeInTheResearch/RawData/PYTHON/BalancedSubstring/PythonPerf/1/alpha/alpha\n",
      "/Users/silalertbanjongngam/Desktop/CodeInTheResearch/RawData/PYTHON/BalancedSubstring/PythonPerf/1/sim/sim\n",
      "name:  Book\n",
      "/Users/silalertbanjongngam/Desktop/CodeInTheResearch/RawData/PYTHON/Book/PythonPerf/1/alpha/alpha\n"
     ]
    },
    {
     "name": "stderr",
     "output_type": "stream",
     "text": [
      "/Users/silalertbanjongngam/anaconda3/lib/python3.9/site-packages/researchpy/ttest.py:18: FutureWarning: The series.append method is deprecated and will be removed from pandas in a future version. Use pandas.concat instead.\n",
      "  groups = group1.append(group2, ignore_index= True)\n",
      "/Users/silalertbanjongngam/anaconda3/lib/python3.9/site-packages/researchpy/ttest.py:18: FutureWarning: The series.append method is deprecated and will be removed from pandas in a future version. Use pandas.concat instead.\n",
      "  groups = group1.append(group2, ignore_index= True)\n",
      "/Users/silalertbanjongngam/anaconda3/lib/python3.9/site-packages/researchpy/ttest.py:18: FutureWarning: The series.append method is deprecated and will be removed from pandas in a future version. Use pandas.concat instead.\n",
      "  groups = group1.append(group2, ignore_index= True)\n",
      "/Users/silalertbanjongngam/anaconda3/lib/python3.9/site-packages/researchpy/ttest.py:18: FutureWarning: The series.append method is deprecated and will be removed from pandas in a future version. Use pandas.concat instead.\n",
      "  groups = group1.append(group2, ignore_index= True)\n"
     ]
    },
    {
     "name": "stdout",
     "output_type": "stream",
     "text": [
      "/Users/silalertbanjongngam/Desktop/CodeInTheResearch/RawData/PYTHON/Book/PythonPerf/1/sim/sim\n",
      "name:  RegularBracketSequences\n",
      "/Users/silalertbanjongngam/Desktop/CodeInTheResearch/RawData/PYTHON/RegularBracketSequences/PythonPerf/1/alpha/alpha\n",
      "/Users/silalertbanjongngam/Desktop/CodeInTheResearch/RawData/PYTHON/RegularBracketSequences/PythonPerf/1/sim/sim\n"
     ]
    },
    {
     "name": "stderr",
     "output_type": "stream",
     "text": [
      "/Users/silalertbanjongngam/anaconda3/lib/python3.9/site-packages/researchpy/ttest.py:18: FutureWarning: The series.append method is deprecated and will be removed from pandas in a future version. Use pandas.concat instead.\n",
      "  groups = group1.append(group2, ignore_index= True)\n",
      "/Users/silalertbanjongngam/anaconda3/lib/python3.9/site-packages/researchpy/ttest.py:18: FutureWarning: The series.append method is deprecated and will be removed from pandas in a future version. Use pandas.concat instead.\n",
      "  groups = group1.append(group2, ignore_index= True)\n",
      "/Users/silalertbanjongngam/anaconda3/lib/python3.9/site-packages/researchpy/ttest.py:18: FutureWarning: The series.append method is deprecated and will be removed from pandas in a future version. Use pandas.concat instead.\n",
      "  groups = group1.append(group2, ignore_index= True)\n",
      "/Users/silalertbanjongngam/anaconda3/lib/python3.9/site-packages/researchpy/ttest.py:18: FutureWarning: The series.append method is deprecated and will be removed from pandas in a future version. Use pandas.concat instead.\n",
      "  groups = group1.append(group2, ignore_index= True)\n",
      "/var/folders/l1/dlc_jzs90vj3g01l0jr_866w0000gn/T/ipykernel_51506/409377616.py:19: FutureWarning: The frame.append method is deprecated and will be removed from pandas in a future version. Use pandas.concat instead.\n",
      "  resTimeDF = resTimeDF.append({'name':nameMapProblem[i],'alTimeMean':tmp[0][0],'alTimeMed':tmp[0][1],'alTimeSD':tmp[0][2], \\\n",
      "/var/folders/l1/dlc_jzs90vj3g01l0jr_866w0000gn/T/ipykernel_51506/409377616.py:24: FutureWarning: The frame.append method is deprecated and will be removed from pandas in a future version. Use pandas.concat instead.\n",
      "  resMemDF = resMemDF.append({'name':nameMapProblem[i],'alMemMean':tmp[1][0],'alMemMed':tmp[1][1],'alMemSD':tmp[1][2], \\\n",
      "/var/folders/l1/dlc_jzs90vj3g01l0jr_866w0000gn/T/ipykernel_51506/409377616.py:19: FutureWarning: The frame.append method is deprecated and will be removed from pandas in a future version. Use pandas.concat instead.\n",
      "  resTimeDF = resTimeDF.append({'name':nameMapProblem[i],'alTimeMean':tmp[0][0],'alTimeMed':tmp[0][1],'alTimeSD':tmp[0][2], \\\n",
      "/var/folders/l1/dlc_jzs90vj3g01l0jr_866w0000gn/T/ipykernel_51506/409377616.py:24: FutureWarning: The frame.append method is deprecated and will be removed from pandas in a future version. Use pandas.concat instead.\n",
      "  resMemDF = resMemDF.append({'name':nameMapProblem[i],'alMemMean':tmp[1][0],'alMemMed':tmp[1][1],'alMemSD':tmp[1][2], \\\n",
      "/var/folders/l1/dlc_jzs90vj3g01l0jr_866w0000gn/T/ipykernel_51506/409377616.py:19: FutureWarning: The frame.append method is deprecated and will be removed from pandas in a future version. Use pandas.concat instead.\n",
      "  resTimeDF = resTimeDF.append({'name':nameMapProblem[i],'alTimeMean':tmp[0][0],'alTimeMed':tmp[0][1],'alTimeSD':tmp[0][2], \\\n",
      "/var/folders/l1/dlc_jzs90vj3g01l0jr_866w0000gn/T/ipykernel_51506/409377616.py:24: FutureWarning: The frame.append method is deprecated and will be removed from pandas in a future version. Use pandas.concat instead.\n",
      "  resMemDF = resMemDF.append({'name':nameMapProblem[i],'alMemMean':tmp[1][0],'alMemMed':tmp[1][1],'alMemSD':tmp[1][2], \\\n",
      "/var/folders/l1/dlc_jzs90vj3g01l0jr_866w0000gn/T/ipykernel_51506/409377616.py:19: FutureWarning: The frame.append method is deprecated and will be removed from pandas in a future version. Use pandas.concat instead.\n",
      "  resTimeDF = resTimeDF.append({'name':nameMapProblem[i],'alTimeMean':tmp[0][0],'alTimeMed':tmp[0][1],'alTimeSD':tmp[0][2], \\\n",
      "/var/folders/l1/dlc_jzs90vj3g01l0jr_866w0000gn/T/ipykernel_51506/409377616.py:24: FutureWarning: The frame.append method is deprecated and will be removed from pandas in a future version. Use pandas.concat instead.\n",
      "  resMemDF = resMemDF.append({'name':nameMapProblem[i],'alMemMean':tmp[1][0],'alMemMed':tmp[1][1],'alMemSD':tmp[1][2], \\\n",
      "/var/folders/l1/dlc_jzs90vj3g01l0jr_866w0000gn/T/ipykernel_51506/409377616.py:19: FutureWarning: The frame.append method is deprecated and will be removed from pandas in a future version. Use pandas.concat instead.\n",
      "  resTimeDF = resTimeDF.append({'name':nameMapProblem[i],'alTimeMean':tmp[0][0],'alTimeMed':tmp[0][1],'alTimeSD':tmp[0][2], \\\n",
      "/var/folders/l1/dlc_jzs90vj3g01l0jr_866w0000gn/T/ipykernel_51506/409377616.py:24: FutureWarning: The frame.append method is deprecated and will be removed from pandas in a future version. Use pandas.concat instead.\n",
      "  resMemDF = resMemDF.append({'name':nameMapProblem[i],'alMemMean':tmp[1][0],'alMemMed':tmp[1][1],'alMemSD':tmp[1][2], \\\n",
      "/var/folders/l1/dlc_jzs90vj3g01l0jr_866w0000gn/T/ipykernel_51506/409377616.py:19: FutureWarning: The frame.append method is deprecated and will be removed from pandas in a future version. Use pandas.concat instead.\n",
      "  resTimeDF = resTimeDF.append({'name':nameMapProblem[i],'alTimeMean':tmp[0][0],'alTimeMed':tmp[0][1],'alTimeSD':tmp[0][2], \\\n",
      "/var/folders/l1/dlc_jzs90vj3g01l0jr_866w0000gn/T/ipykernel_51506/409377616.py:24: FutureWarning: The frame.append method is deprecated and will be removed from pandas in a future version. Use pandas.concat instead.\n",
      "  resMemDF = resMemDF.append({'name':nameMapProblem[i],'alMemMean':tmp[1][0],'alMemMed':tmp[1][1],'alMemSD':tmp[1][2], \\\n",
      "/var/folders/l1/dlc_jzs90vj3g01l0jr_866w0000gn/T/ipykernel_51506/409377616.py:19: FutureWarning: The frame.append method is deprecated and will be removed from pandas in a future version. Use pandas.concat instead.\n",
      "  resTimeDF = resTimeDF.append({'name':nameMapProblem[i],'alTimeMean':tmp[0][0],'alTimeMed':tmp[0][1],'alTimeSD':tmp[0][2], \\\n",
      "/var/folders/l1/dlc_jzs90vj3g01l0jr_866w0000gn/T/ipykernel_51506/409377616.py:24: FutureWarning: The frame.append method is deprecated and will be removed from pandas in a future version. Use pandas.concat instead.\n",
      "  resMemDF = resMemDF.append({'name':nameMapProblem[i],'alMemMean':tmp[1][0],'alMemMed':tmp[1][1],'alMemSD':tmp[1][2], \\\n",
      "/var/folders/l1/dlc_jzs90vj3g01l0jr_866w0000gn/T/ipykernel_51506/409377616.py:30: FutureWarning: The frame.append method is deprecated and will be removed from pandas in a future version. Use pandas.concat instead.\n",
      "  resTimeDF = resTimeDF.append({'name':nameMapProblem[i],'alTimeMean':tmp[0][0],'alTimeMed':tmp[0][1],'alTimeSD':tmp[0][2], \\\n",
      "/var/folders/l1/dlc_jzs90vj3g01l0jr_866w0000gn/T/ipykernel_51506/409377616.py:35: FutureWarning: The frame.append method is deprecated and will be removed from pandas in a future version. Use pandas.concat instead.\n",
      "  resMemDF = resMemDF.append({'name':nameMapProblem[i],'alMemMean':tmp[0][0],'alMemMed':tmp[0][1],'alMemSD':tmp[0][2], \\\n",
      "/var/folders/l1/dlc_jzs90vj3g01l0jr_866w0000gn/T/ipykernel_51506/409377616.py:19: FutureWarning: The frame.append method is deprecated and will be removed from pandas in a future version. Use pandas.concat instead.\n",
      "  resTimeDF = resTimeDF.append({'name':nameMapProblem[i],'alTimeMean':tmp[0][0],'alTimeMed':tmp[0][1],'alTimeSD':tmp[0][2], \\\n"
     ]
    },
    {
     "name": "stdout",
     "output_type": "stream",
     "text": [
      "      name  alMemMean  alMemMed  alMemSD simMemMean simMemMed simMemSD  \\\n",
      "1    1549A    39.2010   39.2090   0.1217    39.4353   39.4336   0.1096   \n",
      "0    1549C    83.2158   83.2305   0.1259    78.5995   78.6152   0.1287   \n",
      "2    1551A    39.1544   39.1641   0.1226     39.188   39.1797   0.1253   \n",
      "3   1551B1    39.1969   39.2109   0.1079    39.1793   39.1836   0.1105   \n",
      "4    1552A    39.1747   39.1797   0.1220    39.1938   39.1953   0.1168   \n",
      "6    1552B    53.8854   53.8965   0.1133     53.885   53.9355   0.1344   \n",
      "5    1553A    39.1811   39.1855   0.1125    39.1672   39.1836   0.1248   \n",
      "7    1553H     5.8183    5.8180   0.0063         NA        NA       NA   \n",
      "8    1554A    55.1097   55.0820   0.1666    55.1638   55.1602   0.1779   \n",
      "9    1554B     0.2195    0.2200   0.0020         NA        NA       NA   \n",
      "10   1554C    39.1715   39.1992   0.1258    39.1646   39.1738    0.124   \n",
      "11   1556A    39.4315   39.4395   0.1109    39.1876   39.1953    0.106   \n",
      "12   1557A    50.1959   50.1953   0.1177    58.7845   58.7969   0.1173   \n",
      "13   1559A    39.1851   39.2070   0.1260    39.1881   39.2031   0.1183   \n",
      "14   1560A    39.1883   39.1875   0.1046    39.1852   39.1875   0.1104   \n",
      "15   1561A    39.1639   39.1738   0.1255    39.1803   39.1875   0.1248   \n",
      "16   1566A    39.1911   39.2109   0.1101    39.1841   39.1914   0.1201   \n",
      "17  1566D1    41.4968   41.4961   0.1182    39.1843   39.1875   0.1131   \n",
      "18   1567E     5.8178    5.8180   0.0078         NA        NA       NA   \n",
      "19   1569A    39.1977   39.2266   0.1198    39.1744   39.1953   0.1205   \n",
      "20   1573C    74.2036   74.2207   0.1187    65.5114   65.5547   0.1295   \n",
      "21   1574A    39.1903   39.2051   0.1124    39.1848   39.1914   0.1237   \n",
      "\n",
      "     delta t-test(p-value < 0.001)           Cohen's d  \n",
      "1   0.2246               0.0, True   2.01 (Very Large)  \n",
      "0   4.6153               0.0, True  36.07 (Very Large)  \n",
      "2   0.0156           0.0577, False        0.27 (Small)  \n",
      "3   0.0273           0.2589, False        0.16 (Small)  \n",
      "4   0.0156           0.2628, False        0.16 (Small)  \n",
      "6    0.039           0.9824, False    0.0 (Very Small)  \n",
      "5   0.0019             0.41, False        0.12 (Small)  \n",
      "7       NA                      NA                  NA  \n",
      "8   0.0782           0.0283, False        0.31 (Small)  \n",
      "9       NA                      NA                  NA  \n",
      "10  0.0254           0.6973, False   0.06 (Very Small)  \n",
      "11  0.2442               0.0, True   2.24 (Very Large)  \n",
      "12  8.6016               0.0, True  72.72 (Very Large)  \n",
      "13  0.0039           0.8627, False   0.02 (Very Small)  \n",
      "14     0.0           0.8402, False   0.03 (Very Small)  \n",
      "15  0.0137           0.3576, False        0.13 (Small)  \n",
      "16  0.0195           0.6681, False   0.06 (Very Small)  \n",
      "17  2.3086               0.0, True  19.88 (Very Large)  \n",
      "18      NA                      NA                  NA  \n",
      "19  0.0313            0.175, False        0.19 (Small)  \n",
      "20   8.666               0.0, True  69.62 (Very Large)  \n",
      "21  0.0137           0.7416, False   0.05 (Very Small)  \n",
      "      name  alTimeMean  alTimeMed  alTimeSD simTimeMean simTimeMed simTimeSD  \\\n",
      "1    1549A      0.2069      0.207    0.0067      0.2082      0.208    0.0056   \n",
      "0    1549C      5.8217      5.822    0.0035      0.6428      0.642    0.0084   \n",
      "2    1551A      0.2271      0.227    0.0037      0.2272      0.227    0.0084   \n",
      "3   1551B1      0.2208      0.221    0.0052      0.2203       0.22    0.0067   \n",
      "4    1552A      0.2110      0.211    0.0044      0.2116      0.211     0.004   \n",
      "6    1552B      0.4594      0.457    0.0133      0.3199      0.319    0.0095   \n",
      "5    1553A      0.2116      0.211    0.0067      0.2092      0.208    0.0111   \n",
      "7    1553H      5.8183      5.818    0.0063          NA         NA        NA   \n",
      "8    1554A      0.3241      0.324    0.0064       0.327      0.327    0.0089   \n",
      "9    1554B      0.2195      0.220    0.0020          NA         NA        NA   \n",
      "10   1554C      5.8167      5.820    0.0202      0.2937      0.286    0.0363   \n",
      "11   1556A      0.2158      0.216    0.0080      0.2297       0.23    0.0084   \n",
      "12   1557A      5.8175      5.818    0.0047      0.2709      0.271    0.0041   \n",
      "13   1559A      0.3236      0.321    0.0113      0.2099     0.2095    0.0053   \n",
      "14   1560A      0.2443      0.220    0.0455      0.2472      0.222    0.0455   \n",
      "15   1561A      0.3008      0.299    0.0151      0.3226      0.319    0.0172   \n",
      "16   1566A      0.2296      0.230    0.0078      0.2292      0.229    0.0075   \n",
      "17  1566D1      0.3863      0.385    0.0142      0.3776      0.373    0.0201   \n",
      "18   1567E      5.8178      5.818    0.0078          NA         NA        NA   \n",
      "19   1569A      0.2228      0.223    0.0044       0.214      0.214     0.007   \n",
      "20   1573C      0.4602      0.460    0.0041      0.4695      0.469    0.0063   \n",
      "21   1574A      0.2041      0.204    0.0063       0.205      0.204    0.0101   \n",
      "\n",
      "     delta t-test(p-value < 0.001)             Cohen's d  \n",
      "1    0.001           0.1504, False           0.2 (Small)  \n",
      "0     5.18               0.0, True   796.38 (Very Large)  \n",
      "2      0.0           0.9221, False     0.01 (Very Small)  \n",
      "3    0.001           0.5568, False     0.08 (Very Small)  \n",
      "4      0.0           0.3505, False          0.13 (Small)  \n",
      "6    0.138               0.0, True    11.99 (Very Large)  \n",
      "5    0.003           0.0677, False          0.26 (Small)  \n",
      "7       NA                      NA                    NA  \n",
      "8    0.003           0.0086, False         0.38 (Medium)  \n",
      "9       NA                      NA                    NA  \n",
      "10   5.534               0.0, True   186.91 (Very Large)  \n",
      "11   0.014               0.0, True      1.7 (Very Large)  \n",
      "12   5.547               0.0, True  1250.18 (Very Large)  \n",
      "13  0.1115               0.0, True    12.83 (Very Large)  \n",
      "14   0.002           0.6533, False     0.06 (Very Small)  \n",
      "15    0.02               0.0, True     1.34 (Very Large)  \n",
      "16   0.001           0.7334, False     0.05 (Very Small)  \n",
      "17   0.012           0.0005, False          0.5 (Medium)  \n",
      "18      NA                      NA                    NA  \n",
      "19   0.009               0.0, True     1.51 (Very Large)  \n",
      "20   0.009               0.0, True     1.74 (Very Large)  \n",
      "21     0.0           0.4871, False      0.1 (Very Small)  \n"
     ]
    },
    {
     "name": "stderr",
     "output_type": "stream",
     "text": [
      "/var/folders/l1/dlc_jzs90vj3g01l0jr_866w0000gn/T/ipykernel_51506/409377616.py:24: FutureWarning: The frame.append method is deprecated and will be removed from pandas in a future version. Use pandas.concat instead.\n",
      "  resMemDF = resMemDF.append({'name':nameMapProblem[i],'alMemMean':tmp[1][0],'alMemMed':tmp[1][1],'alMemSD':tmp[1][2], \\\n",
      "/var/folders/l1/dlc_jzs90vj3g01l0jr_866w0000gn/T/ipykernel_51506/409377616.py:30: FutureWarning: The frame.append method is deprecated and will be removed from pandas in a future version. Use pandas.concat instead.\n",
      "  resTimeDF = resTimeDF.append({'name':nameMapProblem[i],'alTimeMean':tmp[0][0],'alTimeMed':tmp[0][1],'alTimeSD':tmp[0][2], \\\n",
      "/var/folders/l1/dlc_jzs90vj3g01l0jr_866w0000gn/T/ipykernel_51506/409377616.py:35: FutureWarning: The frame.append method is deprecated and will be removed from pandas in a future version. Use pandas.concat instead.\n",
      "  resMemDF = resMemDF.append({'name':nameMapProblem[i],'alMemMean':tmp[0][0],'alMemMed':tmp[0][1],'alMemSD':tmp[0][2], \\\n",
      "/var/folders/l1/dlc_jzs90vj3g01l0jr_866w0000gn/T/ipykernel_51506/409377616.py:19: FutureWarning: The frame.append method is deprecated and will be removed from pandas in a future version. Use pandas.concat instead.\n",
      "  resTimeDF = resTimeDF.append({'name':nameMapProblem[i],'alTimeMean':tmp[0][0],'alTimeMed':tmp[0][1],'alTimeSD':tmp[0][2], \\\n",
      "/var/folders/l1/dlc_jzs90vj3g01l0jr_866w0000gn/T/ipykernel_51506/409377616.py:24: FutureWarning: The frame.append method is deprecated and will be removed from pandas in a future version. Use pandas.concat instead.\n",
      "  resMemDF = resMemDF.append({'name':nameMapProblem[i],'alMemMean':tmp[1][0],'alMemMed':tmp[1][1],'alMemSD':tmp[1][2], \\\n",
      "/var/folders/l1/dlc_jzs90vj3g01l0jr_866w0000gn/T/ipykernel_51506/409377616.py:19: FutureWarning: The frame.append method is deprecated and will be removed from pandas in a future version. Use pandas.concat instead.\n",
      "  resTimeDF = resTimeDF.append({'name':nameMapProblem[i],'alTimeMean':tmp[0][0],'alTimeMed':tmp[0][1],'alTimeSD':tmp[0][2], \\\n",
      "/var/folders/l1/dlc_jzs90vj3g01l0jr_866w0000gn/T/ipykernel_51506/409377616.py:24: FutureWarning: The frame.append method is deprecated and will be removed from pandas in a future version. Use pandas.concat instead.\n",
      "  resMemDF = resMemDF.append({'name':nameMapProblem[i],'alMemMean':tmp[1][0],'alMemMed':tmp[1][1],'alMemSD':tmp[1][2], \\\n",
      "/var/folders/l1/dlc_jzs90vj3g01l0jr_866w0000gn/T/ipykernel_51506/409377616.py:19: FutureWarning: The frame.append method is deprecated and will be removed from pandas in a future version. Use pandas.concat instead.\n",
      "  resTimeDF = resTimeDF.append({'name':nameMapProblem[i],'alTimeMean':tmp[0][0],'alTimeMed':tmp[0][1],'alTimeSD':tmp[0][2], \\\n",
      "/var/folders/l1/dlc_jzs90vj3g01l0jr_866w0000gn/T/ipykernel_51506/409377616.py:24: FutureWarning: The frame.append method is deprecated and will be removed from pandas in a future version. Use pandas.concat instead.\n",
      "  resMemDF = resMemDF.append({'name':nameMapProblem[i],'alMemMean':tmp[1][0],'alMemMed':tmp[1][1],'alMemSD':tmp[1][2], \\\n",
      "/var/folders/l1/dlc_jzs90vj3g01l0jr_866w0000gn/T/ipykernel_51506/409377616.py:19: FutureWarning: The frame.append method is deprecated and will be removed from pandas in a future version. Use pandas.concat instead.\n",
      "  resTimeDF = resTimeDF.append({'name':nameMapProblem[i],'alTimeMean':tmp[0][0],'alTimeMed':tmp[0][1],'alTimeSD':tmp[0][2], \\\n",
      "/var/folders/l1/dlc_jzs90vj3g01l0jr_866w0000gn/T/ipykernel_51506/409377616.py:24: FutureWarning: The frame.append method is deprecated and will be removed from pandas in a future version. Use pandas.concat instead.\n",
      "  resMemDF = resMemDF.append({'name':nameMapProblem[i],'alMemMean':tmp[1][0],'alMemMed':tmp[1][1],'alMemSD':tmp[1][2], \\\n",
      "/var/folders/l1/dlc_jzs90vj3g01l0jr_866w0000gn/T/ipykernel_51506/409377616.py:19: FutureWarning: The frame.append method is deprecated and will be removed from pandas in a future version. Use pandas.concat instead.\n",
      "  resTimeDF = resTimeDF.append({'name':nameMapProblem[i],'alTimeMean':tmp[0][0],'alTimeMed':tmp[0][1],'alTimeSD':tmp[0][2], \\\n",
      "/var/folders/l1/dlc_jzs90vj3g01l0jr_866w0000gn/T/ipykernel_51506/409377616.py:24: FutureWarning: The frame.append method is deprecated and will be removed from pandas in a future version. Use pandas.concat instead.\n",
      "  resMemDF = resMemDF.append({'name':nameMapProblem[i],'alMemMean':tmp[1][0],'alMemMed':tmp[1][1],'alMemSD':tmp[1][2], \\\n",
      "/var/folders/l1/dlc_jzs90vj3g01l0jr_866w0000gn/T/ipykernel_51506/409377616.py:19: FutureWarning: The frame.append method is deprecated and will be removed from pandas in a future version. Use pandas.concat instead.\n",
      "  resTimeDF = resTimeDF.append({'name':nameMapProblem[i],'alTimeMean':tmp[0][0],'alTimeMed':tmp[0][1],'alTimeSD':tmp[0][2], \\\n",
      "/var/folders/l1/dlc_jzs90vj3g01l0jr_866w0000gn/T/ipykernel_51506/409377616.py:24: FutureWarning: The frame.append method is deprecated and will be removed from pandas in a future version. Use pandas.concat instead.\n",
      "  resMemDF = resMemDF.append({'name':nameMapProblem[i],'alMemMean':tmp[1][0],'alMemMed':tmp[1][1],'alMemSD':tmp[1][2], \\\n",
      "/var/folders/l1/dlc_jzs90vj3g01l0jr_866w0000gn/T/ipykernel_51506/409377616.py:19: FutureWarning: The frame.append method is deprecated and will be removed from pandas in a future version. Use pandas.concat instead.\n",
      "  resTimeDF = resTimeDF.append({'name':nameMapProblem[i],'alTimeMean':tmp[0][0],'alTimeMed':tmp[0][1],'alTimeSD':tmp[0][2], \\\n",
      "/var/folders/l1/dlc_jzs90vj3g01l0jr_866w0000gn/T/ipykernel_51506/409377616.py:24: FutureWarning: The frame.append method is deprecated and will be removed from pandas in a future version. Use pandas.concat instead.\n",
      "  resMemDF = resMemDF.append({'name':nameMapProblem[i],'alMemMean':tmp[1][0],'alMemMed':tmp[1][1],'alMemSD':tmp[1][2], \\\n",
      "/var/folders/l1/dlc_jzs90vj3g01l0jr_866w0000gn/T/ipykernel_51506/409377616.py:19: FutureWarning: The frame.append method is deprecated and will be removed from pandas in a future version. Use pandas.concat instead.\n",
      "  resTimeDF = resTimeDF.append({'name':nameMapProblem[i],'alTimeMean':tmp[0][0],'alTimeMed':tmp[0][1],'alTimeSD':tmp[0][2], \\\n",
      "/var/folders/l1/dlc_jzs90vj3g01l0jr_866w0000gn/T/ipykernel_51506/409377616.py:24: FutureWarning: The frame.append method is deprecated and will be removed from pandas in a future version. Use pandas.concat instead.\n",
      "  resMemDF = resMemDF.append({'name':nameMapProblem[i],'alMemMean':tmp[1][0],'alMemMed':tmp[1][1],'alMemSD':tmp[1][2], \\\n",
      "/var/folders/l1/dlc_jzs90vj3g01l0jr_866w0000gn/T/ipykernel_51506/409377616.py:30: FutureWarning: The frame.append method is deprecated and will be removed from pandas in a future version. Use pandas.concat instead.\n",
      "  resTimeDF = resTimeDF.append({'name':nameMapProblem[i],'alTimeMean':tmp[0][0],'alTimeMed':tmp[0][1],'alTimeSD':tmp[0][2], \\\n",
      "/var/folders/l1/dlc_jzs90vj3g01l0jr_866w0000gn/T/ipykernel_51506/409377616.py:35: FutureWarning: The frame.append method is deprecated and will be removed from pandas in a future version. Use pandas.concat instead.\n",
      "  resMemDF = resMemDF.append({'name':nameMapProblem[i],'alMemMean':tmp[0][0],'alMemMed':tmp[0][1],'alMemSD':tmp[0][2], \\\n",
      "/var/folders/l1/dlc_jzs90vj3g01l0jr_866w0000gn/T/ipykernel_51506/409377616.py:19: FutureWarning: The frame.append method is deprecated and will be removed from pandas in a future version. Use pandas.concat instead.\n",
      "  resTimeDF = resTimeDF.append({'name':nameMapProblem[i],'alTimeMean':tmp[0][0],'alTimeMed':tmp[0][1],'alTimeSD':tmp[0][2], \\\n",
      "/var/folders/l1/dlc_jzs90vj3g01l0jr_866w0000gn/T/ipykernel_51506/409377616.py:24: FutureWarning: The frame.append method is deprecated and will be removed from pandas in a future version. Use pandas.concat instead.\n",
      "  resMemDF = resMemDF.append({'name':nameMapProblem[i],'alMemMean':tmp[1][0],'alMemMed':tmp[1][1],'alMemSD':tmp[1][2], \\\n",
      "/var/folders/l1/dlc_jzs90vj3g01l0jr_866w0000gn/T/ipykernel_51506/409377616.py:19: FutureWarning: The frame.append method is deprecated and will be removed from pandas in a future version. Use pandas.concat instead.\n",
      "  resTimeDF = resTimeDF.append({'name':nameMapProblem[i],'alTimeMean':tmp[0][0],'alTimeMed':tmp[0][1],'alTimeSD':tmp[0][2], \\\n",
      "/var/folders/l1/dlc_jzs90vj3g01l0jr_866w0000gn/T/ipykernel_51506/409377616.py:24: FutureWarning: The frame.append method is deprecated and will be removed from pandas in a future version. Use pandas.concat instead.\n",
      "  resMemDF = resMemDF.append({'name':nameMapProblem[i],'alMemMean':tmp[1][0],'alMemMed':tmp[1][1],'alMemSD':tmp[1][2], \\\n",
      "/var/folders/l1/dlc_jzs90vj3g01l0jr_866w0000gn/T/ipykernel_51506/409377616.py:19: FutureWarning: The frame.append method is deprecated and will be removed from pandas in a future version. Use pandas.concat instead.\n",
      "  resTimeDF = resTimeDF.append({'name':nameMapProblem[i],'alTimeMean':tmp[0][0],'alTimeMed':tmp[0][1],'alTimeSD':tmp[0][2], \\\n",
      "/var/folders/l1/dlc_jzs90vj3g01l0jr_866w0000gn/T/ipykernel_51506/409377616.py:24: FutureWarning: The frame.append method is deprecated and will be removed from pandas in a future version. Use pandas.concat instead.\n",
      "  resMemDF = resMemDF.append({'name':nameMapProblem[i],'alMemMean':tmp[1][0],'alMemMed':tmp[1][1],'alMemSD':tmp[1][2], \\\n"
     ]
    }
   ],
   "source": [
    "mainPath='/Users/silalertbanjongngam/Desktop/CodeInTheResearch/RawData/'\n",
    "for l in ['Cpp','Python']:\n",
    "    res2lang={}    \n",
    "    lperfmem={}\n",
    "    lperftime={}\n",
    "    print('Language: ', l)\n",
    "    for i in listOfProblem:\n",
    "        print('name: ',i)\n",
    "        lperftime[i],lperfmem[i],res2lang[i] = getPerf(mainPath,l,i)\n",
    "    Write_All_Stistic_csv(listOfProblem,l,res2lang,lperfmem,lperftime)"
   ]
  }
 ],
 "metadata": {
  "kernelspec": {
   "display_name": "Python 3.9.12 ('base')",
   "language": "python",
   "name": "python3"
  },
  "language_info": {
   "codemirror_mode": {
    "name": "ipython",
    "version": 3
   },
   "file_extension": ".py",
   "mimetype": "text/x-python",
   "name": "python",
   "nbconvert_exporter": "python",
   "pygments_lexer": "ipython3",
   "version": "3.9.12"
  },
  "orig_nbformat": 4,
  "vscode": {
   "interpreter": {
    "hash": "015de3737c1b8e70060787c256ef48dc40738825eaf11a4911626a31fc0d470f"
   }
  }
 },
 "nbformat": 4,
 "nbformat_minor": 2
}
