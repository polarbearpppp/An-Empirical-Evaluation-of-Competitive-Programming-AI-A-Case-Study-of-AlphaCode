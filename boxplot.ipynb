{
 "cells": [
  {
   "cell_type": "markdown",
   "id": "b4a12b11",
   "metadata": {},
   "source": [
    "Library for Boxplot simility between Alphacode and Human code"
   ]
  },
  {
   "cell_type": "code",
   "execution_count": 1,
   "id": "032f30b7",
   "metadata": {},
   "outputs": [],
   "source": [
    "import pandas as pd\n",
    "import seaborn as sns\n",
    "import os\n",
    "import numpy as np\n",
    "import matplotlib.pyplot as plt\n"
   ]
  },
  {
   "cell_type": "markdown",
   "id": "c88b76c8",
   "metadata": {},
   "source": [
    "Defined list of problem and contest index of each problem"
   ]
  },
  {
   "cell_type": "code",
   "execution_count": 2,
   "id": "8e726185",
   "metadata": {},
   "outputs": [],
   "source": [
    "listOfProblem= ['WebofLies','GregorandCryptography','PolycarpandCoins','WonderfulColoring','SubsequencePermutation','DigitsSum','RunningforGold',\n",
    "'XORandDistance','Cherry','Cobb','Mikasa','AVarietyofOperations','EzzatandTwoSubsequences','MochaandMath','DislikeofThrees',\n",
    "'SimplyStrangeSort','MedianMaximization','SeatingArrangementseasyversion','NonDecreasingDilemma','BalancedSubstring','Book',\n",
    "'RegularBracketSequences']\n",
    "\n",
    "nameMapProblem= {'WebofLies': '1549C','TheThreeLittlePigs': '1548C','GregorandtheTwoPainters': '1548E',\n",
    " 'GregorandCryptography': '1549A','PolycarpandCoins': '1551A','WonderfulColoring': '1551B1',\n",
    " 'SubsequencePermutation': '1552A','RunningforGold': '1552B','Backspace': '1553D','PermutationShift': '1553E',\n",
    " 'DigitsSum': '1553A','XORandDistance': '1553H','Cherry': '1554A','Cobb': '1554B',\n",
    " 'Mikasa': '1554C','SayNotoPalindromes': '1555D','AVarietyofOperations': '1556A','Moamenandksubarrays': '1557B',\n",
    " 'EzzatandTwoSubsequences': '1557A','MochaandMath': '1559A','MochaandRedandBlue': '1559B','MochaandDianaEasyVersion': '1559D1',\n",
    " 'DislikeofThrees': '1560A','InfinityTable': '1560C','NearestBeautifulNumbereasyversion': '1560F1','NearestBeautifulNumberhardversion': '1560F2',\n",
    " 'SimplyStrangeSort': '1561A','ScenesFromaMemory': '1562B','SeatingArrangementseasyversion': '1566D1',\n",
    " 'MINMEXCut': '1566B','MedianMaximization': '1566A','BudsRehanging': '1566E','NonDecreasingDilemma': '1567E',\n",
    " 'BalancedSubstring': '1569A','Book': '1573C','Countdown': '1573A','RegularBracketSequences': '1574A',\n",
    " 'CombinatoricsHomework': '1574B','MinimizeDistance': '1585C','MissingBigram': '1618B',\n",
    " \"Singers'Tour\": '1618E',\"NewYear'sProblem\": '1619D','GameonRanges': '1623B'}"
   ]
  },
  {
   "cell_type": "markdown",
   "id": "43dd9937",
   "metadata": {},
   "source": [
    "In this step, we read the C++ result file and normalize it into a Pandas dataframe. We compute the median of all problems and also find the human code file that is most similar to alphacode. (The result file came from CodeHash tools from Ishio)"
   ]
  },
  {
   "cell_type": "code",
   "execution_count": 3,
   "id": "9664bed6",
   "metadata": {},
   "outputs": [
    {
     "name": "stdout",
     "output_type": "stream",
     "text": [
      "NonDecreasingDilemma\n",
      "133242420.cpp\n",
      "GregorandCryptography\n",
      "155305938.cpp\n",
      "PolycarpandCoins\n",
      "156419403.cpp\n",
      "SimplyStrangeSort\n",
      "140945760.cpp\n",
      "MedianMaximization\n",
      "150593858.cpp\n",
      "DigitsSum\n",
      "145909713.cpp\n",
      "RunningforGold\n",
      "154976672.cpp\n",
      "RegularBracketSequences\n",
      "153160345.cpp\n",
      "WonderfulColoring\n",
      "145909584.cpp\n",
      "Cherry\n",
      "146489751.cpp\n",
      "Mikasa\n",
      "145815627.cpp\n",
      "WebofLies\n",
      "130088964.cpp\n",
      "MochaandMath\n",
      "153811222.cpp\n",
      "BalancedSubstring\n",
      "143870038.cpp\n",
      "Book\n",
      "153560750.cpp\n",
      "SeatingArrangementseasyversion\n",
      "152659821.cpp\n",
      "DislikeofThrees\n",
      "157080588.cpp\n",
      "EzzatandTwoSubsequences\n",
      "156285949.cpp\n",
      "AVarietyofOperations\n",
      "138539487.cpp\n",
      "XORandDistance\n",
      "150146958.cpp\n",
      "SubsequencePermutation\n",
      "145909696.cpp\n",
      "Cobb\n",
      "135085350.cpp\n",
      "0.26948770173384556\n"
     ]
    }
   ],
   "source": [
    "#Cpp plot\n",
    "\n",
    "cppSimDF = pd.DataFrame(columns={'Sim','name'})\n",
    "cppOverlapDF = pd.DataFrame(columns={'Overlab','name'})\n",
    "path ='/Users/silalertbanjongngam/Desktop/CodeInTheResearch/RawData/CPP/simALL'\n",
    "lstt = os.listdir('/Users/silalertbanjongngam/Desktop/CodeInTheResearch/RawData/CPP/')\n",
    "median = []\n",
    "mean = []\n",
    "for i in lstt:\n",
    "    if(i in listOfProblem):\n",
    "        print(i)\n",
    "        file = open(f'{path}/{i}_similarity.txt','r').read().split('\\n')\n",
    "        try:\n",
    "            a = [[float(x.split(' ')[1][1:]),float(x.split(' ')[2][:-1]),x.split(' ')[0][1:-1] ] for x in file if(len(x) >1)]   \n",
    "            sim = [x[0] for x in a]\n",
    "            tmpsim= np.array(sim)\n",
    "            overlab = [x[1] for x in a]\n",
    "            name = [i for x in range(len(overlab))]\n",
    "            for j in range(len(name)):\n",
    "                cppSimDF = cppSimDF.append({'Sim':sim[j],'name':nameMapProblem[i]},ignore_index=True)\n",
    "                cppOverlapDF = cppOverlapDF.append({'Overlab':overlab[j],'name':nameMapProblem[i]},ignore_index=True)\n",
    "            print('The most Humancode similar with Alphacode(C++)',sorted(a,reverse=True)[0][2][sorted(a,reverse=True)[0][2].rfind('/')+1:])\n",
    "            medsim = np.median(tmpsim)\n",
    "            meansim = np.mean(tmpsim)\n",
    "            median.append(medsim)\n",
    "            mean.append(meansim)\n",
    "        except:\n",
    "            sim =0\n",
    "            overlab =0\n",
    "            name = i\n",
    "            cppSimDF = sim.append({'Sim':sim,'name':nameMapProblem[i]},ignore_index=True)\n",
    "            cppOverlapDF = cppOverlapDF.append({'Overlab':overlab,'name':nameMapProblem[i]},ignore_index=True)\n",
    "            print('no human code submission',sim,overlab,nameMapProblem[i])\n",
    "            median.append(0)\n",
    "            mean.append(0)\n",
    "# print(np.median(np.array(median)))\n",
    "    \n",
    "    \n",
    "\n",
    "# ax = sns.boxplot(y='Sim',x='name',data=cppSimDF)\n",
    "# ax.set_xticklabels(ax.get_xticklabels(), rotation=45,horizontalalignment='right')"
   ]
  },
  {
   "cell_type": "code",
   "execution_count": null,
   "id": "b9e6aea7",
   "metadata": {},
   "outputs": [],
   "source": [
    "print(np.median(np.array(median)))\n",
    "print(np.mean(np.array(mean)))"
   ]
  },
  {
   "cell_type": "markdown",
   "id": "a56a97ca",
   "metadata": {},
   "source": [
    "We used the dataframe from the previous cell to boxplot illustrate the result of similiraity between Alpha code and ALl human code in C++ language."
   ]
  },
  {
   "cell_type": "code",
   "execution_count": 25,
   "id": "832bbd57",
   "metadata": {},
   "outputs": [
    {
     "data": {
      "image/png": "[encoded data removed]",
      "text/plain": [
       "<Figure size 468x288 with 1 Axes>"
      ]
     },
     "metadata": {
      "needs_background": "light"
     },
     "output_type": "display_data"
    }
   ],
   "source": [
    "plt.rcParams[\"figure.figsize\"] = [7.50, 3.50]\n",
    "plt.rcParams[\"figure.autolayout\"] = True\n",
    "cppSimDF=cppSimDF.sort_values(by='name')\n",
    "sns_cpp =  sns.boxplot(y='Sim',x='name',data=cppSimDF,showmeans=True)\n",
    "sns_cpp.set_xticklabels(sns_cpp.get_xticklabels(), rotation=45,horizontalalignment='center')\n",
    "fig = sns_cpp.get_figure()\n",
    "fig = sns_cpp.set_ylabel(\"Similarity\")\n",
    "fig = sns_cpp.set_xlabel(\"\")\n",
    "fig = sns_cpp.get_figure()\n",
    "fig.set_size_inches(6.5, 4)\n",
    "\n",
    "# fig.set_size_inches(10, 10)\n"
   ]
  },
  {
   "cell_type": "markdown",
   "id": "7392ae4d",
   "metadata": {},
   "source": [
    "In this step, we read the Python result file and normalize it into a Pandas dataframe. We compute the median of all problems and also find the human code file that is most similar to alphacode. (The result file came from CodeHash tools from Ishio)"
   ]
  },
  {
   "cell_type": "code",
   "execution_count": 26,
   "id": "a2a67eee",
   "metadata": {},
   "outputs": [
    {
     "name": "stdout",
     "output_type": "stream",
     "text": [
      "1567E\n",
      "0 0 1567E\n",
      "1549A\n",
      "125173543.py\n",
      "1551A\n",
      "154143464.py\n",
      "1561A\n",
      "126890439.py\n",
      "1566A\n",
      "128612380.py\n",
      "1553A\n",
      "150458824.py\n",
      "1552B\n",
      "123799846.py\n",
      "1574A\n",
      "129370350.py\n",
      "1551B1\n",
      "123514594.py\n",
      "1554A\n",
      "124130199.py\n",
      "1554C\n",
      "141955961.py\n",
      "1549C\n",
      "124546947.py\n",
      "1559A\n",
      "126186253.py\n",
      "1569A\n",
      "128220721.py\n",
      "1573C\n",
      "130336413.py\n",
      "1566D1\n",
      "128841002.py\n",
      "1560A\n",
      "145863453.py\n",
      "1557A\n",
      "133401718.py\n",
      "1556A\n",
      "127342254.py\n",
      "1553H\n",
      "0 0 1553H\n",
      "1552A\n",
      "153547183.py\n",
      "1554B\n",
      "0 0 1554B\n",
      "0.2858037282565584\n"
     ]
    }
   ],
   "source": [
    "#Python plot\n",
    "\n",
    "pythonSimDF = pd.DataFrame(columns={'Sim','name'})\n",
    "cppOverlapDF = pd.DataFrame(columns={'Overlab','name'})\n",
    "path ='/Users/silalertbanjongngam/Desktop/CodeInTheResearch/RawData/PYTHON/simALL'\n",
    "lstt = os.listdir('/Users/silalertbanjongngam/Desktop/CodeInTheResearch/RawData/PYTHON/')\n",
    "medianpy=[]\n",
    "meanpy=[]\n",
    "for i in lstt:\n",
    "    if(i in listOfProblem):\n",
    "        print(nameMapProblem[i])\n",
    "        try:\n",
    "            file = open(f'{path}/{i}_similarity.txt','r').read().split('\\n')\n",
    "            a = [[float(x.split(' ')[1][1:]),float(x.split(' ')[2][:-1]),x.split(' ')[0][1:-1] ] for x in file if(len(x) >1)]\n",
    "            sim = [x[0] for x in a]\n",
    "            tmpsim = np.array(sim)\n",
    "            overlab = [x[1] for x in a]\n",
    "            name = [i for x in range(len(overlab))]\n",
    "            for j in range(len(name)):\n",
    "                pythonSimDF = pythonSimDF.append({'Sim':sim[j],'name':nameMapProblem[i]},ignore_index=True)\n",
    "                cppOverlapDF = cppOverlapDF.append({'Overlab':overlab[j],'name':nameMapProblem[i]},ignore_index=True)\n",
    "            print('The most Humancode similar with Alphacode(Python)',sorted(a,reverse=True)[0][2][sorted(a,reverse=True)[0][2].rfind('/')+1:])\n",
    "            medsim = np.median(tmpsim)\n",
    "            medianpy.append(medsim)\n",
    "            meanp= np.mean(tmpsim)\n",
    "            meanpy.append(meanp)\n",
    "        except:\n",
    "            sim =0\n",
    "            overlab =0\n",
    "            name = i\n",
    "            pythonSimDF = pythonSimDF.append({'Sim':sim,'name':nameMapProblem[i]},ignore_index=True)\n",
    "            cppOverlapDF = cppOverlapDF.append({'Overlab':overlab,'name':nameMapProblem[i]},ignore_index=True)\n",
    "            print('no human code submission',sim,overlab,nameMapProblem[i])\n",
    "            medianpy.append(0)\n",
    "            meanpy.append(0)\n",
    "print(np.median(np.array(medianpy)))\n",
    "\n",
    "# ax = sns.boxplot(y='Sim',x='name',data=pythonSimDF)\n",
    "# ax.set_xticklabels(ax.get_xticklabels(), rotation=45,horizontalalignment='right')"
   ]
  },
  {
   "cell_type": "code",
   "execution_count": null,
   "id": "38dc4458",
   "metadata": {},
   "outputs": [],
   "source": [
    "print(np.median(np.array(medianpy)))\n",
    "print(np.mean(np.array(meanpy)))"
   ]
  },
  {
   "cell_type": "markdown",
   "id": "03dbe7b3",
   "metadata": {},
   "source": [
    "We used the dataframe from the previous cell to boxplot illustrate the result of similiraity between Alpha code and All human code in Python language."
   ]
  },
  {
   "cell_type": "code",
   "execution_count": 29,
   "id": "14486c05",
   "metadata": {},
   "outputs": [
    {
     "data": {
      "image/png": "[encoded data removed]",
      "text/plain": [
       "<Figure size 468x288 with 1 Axes>"
      ]
     },
     "metadata": {
      "needs_background": "light"
     },
     "output_type": "display_data"
    }
   ],
   "source": [
    "plt.rcParams[\"figure.figsize\"] = [7.50, 3.50]\n",
    "plt.rcParams[\"figure.autolayout\"] = True\n",
    "pythonSimDF=pythonSimDF.sort_values(by='name')\n",
    "sns_py =  sns.boxplot(y='Sim',x='name',data=pythonSimDF,showmeans=True)\n",
    "sns_py.set_xticklabels(sns_py.get_xticklabels(), rotation=45,horizontalalignment='center')\n",
    "fig = sns_py.get_figure()\n",
    "fig = sns_py.set_ylabel(\"Similarity\")\n",
    "fig = sns_py.set_xlabel(\"\")\n",
    "fig = sns_py.get_figure()\n",
    "fig.set_size_inches(6.5, 4)\n",
    "\n",
    "# fig.set_size_inches(10, 10)\n",
    "\n",
    "# fig.savefig('python-boxplot.pdf')"
   ]
  }
 ],
 "metadata": {
  "kernelspec": {
   "display_name": "Python 3.9.12 ('base')",
   "language": "python",
   "name": "python3"
  },
  "language_info": {
   "codemirror_mode": {
    "name": "ipython",
    "version": 3
   },
   "file_extension": ".py",
   "mimetype": "text/x-python",
   "name": "python",
   "nbconvert_exporter": "python",
   "pygments_lexer": "ipython3",
   "version": "3.9.12"
  },
  "vscode": {
   "interpreter": {
    "hash": "015de3737c1b8e70060787c256ef48dc40738825eaf11a4911626a31fc0d470f"
   }
  }
 },
 "nbformat": 4,
 "nbformat_minor": 5
}
